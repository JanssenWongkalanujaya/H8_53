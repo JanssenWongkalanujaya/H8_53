{
 "cells": [
  {
   "cell_type": "markdown",
   "metadata": {},
   "source": [
    "**MASUK SESI 2**"
   ]
  },
  {
   "cell_type": "code",
   "execution_count": 1,
   "metadata": {
    "ExecuteTime": {
     "end_time": "2021-05-02T14:39:48.384433Z",
     "start_time": "2021-05-02T14:39:48.357469Z"
    }
   },
   "outputs": [
    {
     "name": "stdout",
     "output_type": "stream",
     "text": [
      "['Adit', 'Bagus', 'Daniel', 'Dezenia', 'Ilham', 'Maria', 'Yusuf']\n",
      "['Satya', 'Richard', 'Stefani', 'Timotius', 'Veronica', 'Vicny', 'Yoga']\n"
     ]
    }
   ],
   "source": [
    "names = [\"Adit\", \"Bagus\", \"Daniel\", \"Dezenia\", \"Ilham\", \"Maria\", \"Yusuf\"]\n",
    "others = [\"Satya\", \"Richard\", \"Stefani\", \"Timotius\", \"Veronica\", \"Vicny\", \"Yoga\"]\n",
    "\n",
    "print(names)\n",
    "print(others)"
   ]
  },
  {
   "cell_type": "code",
   "execution_count": 2,
   "metadata": {
    "ExecuteTime": {
     "end_time": "2021-05-02T14:39:54.095054Z",
     "start_time": "2021-05-02T14:39:54.058076Z"
    }
   },
   "outputs": [
    {
     "name": "stdout",
     "output_type": "stream",
     "text": [
      "Yes! 0 < 50\n",
      "Yes! 0 < 50\n",
      "satya is not in others\n"
     ]
    }
   ],
   "source": [
    "x = 0\n",
    "y = 50\n",
    "z = \"satya\"\n",
    "\n",
    "if x < y:\n",
    "    print(f\"Yes! {x} < {y}\") #f itu sebagai string liferal pakai kurung kurawal\n",
    "    print(\"Yes! {} < {}\".format(x,y))\n",
    "    \n",
    "if z in others:\n",
    "    print(f\"name: {z} is in others\")\n",
    "    print(z * 3) #karena satya nya disini lower case\n",
    "else:\n",
    "    print(f\"{z} is not in others\")"
   ]
  },
  {
   "cell_type": "code",
   "execution_count": 3,
   "metadata": {
    "ExecuteTime": {
     "end_time": "2021-05-02T14:40:10.625699Z",
     "start_time": "2021-05-02T14:40:10.593720Z"
    }
   },
   "outputs": [
    {
     "name": "stdout",
     "output_type": "stream",
     "text": [
      "satya is not in others\n",
      "satyasatyasatyasatyasatyasatyasatyasatyasatyasatyasatyasatyasatyasatyasatyasatyasatyasatyasatyasatyasatyasatyasatyasatyasatyasatyasatyasatyasatyasatyasatyasatyasatyasatyasatyasatyasatyasatyasatyasatyasatyasatyasatyasatyasatyasatyasatyasatyasatyasatyasatyasatyasatyasatyasatyasatyasatyasatyasatyasatyasatyasatyasatyasatyasatyasatyasatyasatyasatyasatyasatyasatyasatyasatyasatyasatyasatyasatyasatyasatyasatyasatyasatyasatyasatyasatyasatyasatyasatyasatyasatyasatyasatyasatyasatyasatyasatyasatyasatyasatya\n"
     ]
    }
   ],
   "source": [
    "if z in others:\n",
    "    print(f\"name: {z} is in others\")\n",
    "    print(z * 3)\n",
    "print(f\"\"\"{z} is not in others\"\"\")\n",
    "print(z * 100)"
   ]
  },
  {
   "cell_type": "code",
   "execution_count": 4,
   "metadata": {
    "ExecuteTime": {
     "end_time": "2021-05-02T14:47:19.464420Z",
     "start_time": "2021-05-02T14:47:19.431439Z"
    }
   },
   "outputs": [
    {
     "name": "stdout",
     "output_type": "stream",
     "text": [
      "just buy magazines\n",
      "just buy magazines\n"
     ]
    }
   ],
   "source": [
    "book_price = 1000\n",
    "mag_price = 500\n",
    "money = 600\n",
    "\n",
    "if money >= book_price:\n",
    "    print(\"let's buy a book\")\n",
    "elif money >= mag_price:\n",
    "    print(\"just buy magazines\")\n",
    "else:\n",
    "    print(\"let's collect more money\")\n",
    "\n",
    "if money >= mag_price:\n",
    "    print(\"just buy magazines\")\n",
    "elif money >= book_price:\n",
    "    print(\"let's buy a book\")\n",
    "else:\n",
    "    print(\"let's collect more money\")"
   ]
  },
  {
   "cell_type": "code",
   "execution_count": 5,
   "metadata": {
    "ExecuteTime": {
     "end_time": "2021-05-02T14:47:32.724156Z",
     "start_time": "2021-05-02T14:47:32.704167Z"
    }
   },
   "outputs": [
    {
     "name": "stdout",
     "output_type": "stream",
     "text": [
      "remedy\n"
     ]
    }
   ],
   "source": [
    "min_score = .7\n",
    "score = .65\n",
    "\n",
    "if score > min_score:\n",
    "    print(\"success\")\n",
    "else:\n",
    "    print(\"remedy\")"
   ]
  },
  {
   "cell_type": "code",
   "execution_count": 6,
   "metadata": {
    "ExecuteTime": {
     "end_time": "2021-05-02T14:48:32.530637Z",
     "start_time": "2021-05-02T14:48:32.510124Z"
    }
   },
   "outputs": [
    {
     "name": "stdout",
     "output_type": "stream",
     "text": [
      "1 less than 7\n"
     ]
    }
   ],
   "source": [
    "score = 1\n",
    "min_score = 7\n",
    "\n",
    "if score < min_score:\n",
    "    print(score, \"less than {}\".format(min_score))"
   ]
  },
  {
   "cell_type": "code",
   "execution_count": 7,
   "metadata": {
    "ExecuteTime": {
     "end_time": "2021-05-02T14:48:42.387477Z",
     "start_time": "2021-05-02T14:48:42.355496Z"
    }
   },
   "outputs": [
    {
     "name": "stdout",
     "output_type": "stream",
     "text": [
      "1 less than 7\n",
      "2 less than 7\n",
      "3 less than 7\n",
      "4 less than 7\n",
      "5 less than 7\n",
      "6 less than 7\n"
     ]
    }
   ],
   "source": [
    "while score < min_score:\n",
    "    print(score, \"less than {}\".format(min_score))\n",
    "    score = score + 1"
   ]
  },
  {
   "cell_type": "code",
   "execution_count": 8,
   "metadata": {
    "ExecuteTime": {
     "end_time": "2021-05-02T14:49:14.202005Z",
     "start_time": "2021-05-02T14:49:14.158027Z"
    }
   },
   "outputs": [
    {
     "name": "stdout",
     "output_type": "stream",
     "text": [
      "0 names: Adit\n",
      "1 names: Bagus\n",
      "2 names: Daniel\n",
      "3 names: Dezenia\n",
      "4 names: Ilham\n",
      "5 names: Maria\n",
      "6 names: Yusuf\n",
      "0 names: Adit\n",
      "2 names: Daniel\n",
      "4 names: Ilham\n",
      "6 names: Yusuf\n"
     ]
    }
   ],
   "source": [
    "idx = 0\n",
    "while idx < len(names):\n",
    "    print(idx, \"names:\", names[idx])\n",
    "    idx = idx + 1\n",
    "\n",
    "idx = 0\n",
    "while idx < len(names):\n",
    "    print(idx, \"names:\", names[idx])\n",
    "    idx = idx + 2"
   ]
  },
  {
   "cell_type": "code",
   "execution_count": 9,
   "metadata": {
    "ExecuteTime": {
     "end_time": "2021-05-02T14:49:21.886454Z",
     "start_time": "2021-05-02T14:49:21.866473Z"
    },
    "scrolled": true
   },
   "outputs": [
    {
     "name": "stdout",
     "output_type": "stream",
     "text": [
      "0 names Adit\n",
      "1 names Bagus\n"
     ]
    }
   ],
   "source": [
    "idx = 0\n",
    "while idx < len(names):\n",
    "    if idx == 2:\n",
    "        break\n",
    "    print(idx, \"names\", names[idx])\n",
    "    idx = idx + 1"
   ]
  },
  {
   "cell_type": "code",
   "execution_count": 10,
   "metadata": {
    "ExecuteTime": {
     "end_time": "2021-05-02T14:49:58.491884Z",
     "start_time": "2021-05-02T14:49:58.422929Z"
    }
   },
   "outputs": [
    {
     "data": {
      "text/plain": [
       "0"
      ]
     },
     "execution_count": 10,
     "metadata": {},
     "output_type": "execute_result"
    }
   ],
   "source": [
    "0 % 3"
   ]
  },
  {
   "cell_type": "code",
   "execution_count": 11,
   "metadata": {
    "ExecuteTime": {
     "end_time": "2021-05-02T14:51:01.264409Z",
     "start_time": "2021-05-02T14:51:01.230431Z"
    }
   },
   "outputs": [
    {
     "name": "stdout",
     "output_type": "stream",
     "text": [
      "0 name: Adit\n",
      "1 name: Bagus\n",
      "2 name: Daniel\n",
      "4 name: Ilham\n",
      "5 name: Maria\n"
     ]
    }
   ],
   "source": [
    "# skip name with index 3, 6, 9, etc.\n",
    "idx = 0\n",
    "while idx < len(names):\n",
    "    if (idx % 3 == 0) and (idx != 0):\n",
    "        idx = idx + 1\n",
    "        continue\n",
    "    print(idx, \"name:\", names[idx])\n",
    "    idx = idx + 1"
   ]
  },
  {
   "cell_type": "code",
   "execution_count": 12,
   "metadata": {
    "ExecuteTime": {
     "end_time": "2021-05-02T14:51:39.595444Z",
     "start_time": "2021-05-02T14:51:39.572459Z"
    }
   },
   "outputs": [
    {
     "name": "stdout",
     "output_type": "stream",
     "text": [
      "['Satya', 'Richard', 'Stefani', 'Timotius', 'Veronica', 'Vicny', 'Yoga']\n",
      "Satya\n",
      "Richard\n",
      "Stefani\n",
      "Timotius\n",
      "Veronica\n",
      "Vicny\n",
      "Yoga\n"
     ]
    }
   ],
   "source": [
    "print(others)\n",
    "\n",
    "for name in others:\n",
    "    print(name)"
   ]
  },
  {
   "cell_type": "code",
   "execution_count": 13,
   "metadata": {
    "ExecuteTime": {
     "end_time": "2021-05-02T14:51:52.903412Z",
     "start_time": "2021-05-02T14:51:52.876434Z"
    },
    "scrolled": true
   },
   "outputs": [
    {
     "name": "stdout",
     "output_type": "stream",
     "text": [
      "1\n",
      "2\n",
      "3\n",
      "4\n",
      "5\n",
      "6\n",
      "7\n",
      "8\n",
      "9\n",
      "10\n"
     ]
    }
   ],
   "source": [
    "for i in [1, 2, 3, 4, 5, 6, 7, 8, 9, 10]:\n",
    "    print(i)"
   ]
  },
  {
   "cell_type": "code",
   "execution_count": 14,
   "metadata": {
    "ExecuteTime": {
     "end_time": "2021-05-02T14:53:33.656234Z",
     "start_time": "2021-05-02T14:53:33.628257Z"
    }
   },
   "outputs": [
    {
     "name": "stdout",
     "output_type": "stream",
     "text": [
      "Yoga Y o g\n"
     ]
    }
   ],
   "source": [
    "print(name, name[0], name[1], name[2])"
   ]
  },
  {
   "cell_type": "code",
   "execution_count": 15,
   "metadata": {
    "ExecuteTime": {
     "end_time": "2021-05-02T14:54:03.500543Z",
     "start_time": "2021-05-02T14:54:03.459567Z"
    }
   },
   "outputs": [
    {
     "name": "stdout",
     "output_type": "stream",
     "text": [
      "name: Adit\n",
      "a-d-i-t-\n",
      "name: Bagus\n",
      "b-a-g-u-s-\n",
      "name: Daniel\n",
      "d-a-n-i-e-l-\n",
      "name: Dezenia\n",
      "d-e-z-e-n-i-a-\n",
      "name: Ilham\n",
      "i-l-h-a-m-\n",
      "name: Maria\n",
      "m-a-r-i-a-\n",
      "name: Yusuf\n",
      "y-u-s-u-f-\n"
     ]
    }
   ],
   "source": [
    "# output \"s-a-t-y-a-\"\n",
    "for name in names:\n",
    "    print(\"name:\", name)\n",
    "    s = \"\"\n",
    "    for char in name:\n",
    "        s = s + char + \"-\"\n",
    "    print(s.lower())"
   ]
  },
  {
   "cell_type": "code",
   "execution_count": 16,
   "metadata": {
    "ExecuteTime": {
     "end_time": "2021-05-02T14:54:38.777175Z",
     "start_time": "2021-05-02T14:54:38.762182Z"
    }
   },
   "outputs": [
    {
     "name": "stdout",
     "output_type": "stream",
     "text": [
      "[0, 1, 2, 3, 4, 5, 6, 7, 8, 9, 10, 11, 12, 13, 14, 15, 16, 17, 18, 19, 20, 21, 22, 23, 24, 25, 26, 27, 28, 29, 30, 31, 32, 33, 34, 35, 36, 37, 38, 39, 40, 41, 42, 43, 44, 45, 46, 47, 48, 49, 50, 51, 52, 53, 54, 55, 56, 57, 58, 59, 60, 61, 62, 63, 64, 65, 66, 67, 68, 69, 70, 71, 72, 73, 74, 75, 76, 77, 78, 79, 80, 81, 82, 83, 84, 85, 86, 87, 88, 89, 90, 91, 92, 93, 94, 95, 96, 97, 98, 99]\n",
      "[0, 2, 4, 6, 8, 10, 12, 14, 16, 18, 20, 22, 24, 26, 28, 30, 32, 34, 36, 38, 40, 42, 44, 46, 48, 50, 52, 54, 56, 58, 60, 62, 64, 66, 68, 70, 72, 74, 76, 78, 80, 82, 84, 86, 88, 90, 92, 94, 96, 98]\n"
     ]
    }
   ],
   "source": [
    "print(list(range(100)))\n",
    "print(list(range(0, 100, 2)))"
   ]
  },
  {
   "cell_type": "code",
   "execution_count": 17,
   "metadata": {
    "ExecuteTime": {
     "end_time": "2021-05-02T14:54:59.777118Z",
     "start_time": "2021-05-02T14:54:59.739141Z"
    }
   },
   "outputs": [
    {
     "name": "stdout",
     "output_type": "stream",
     "text": [
      "0 name: Adit\n",
      "1 name: Bagus\n",
      "2 name: Daniel\n",
      "4 name: Ilham\n",
      "5 name: Maria\n"
     ]
    }
   ],
   "source": [
    "for i in range(len(names)):\n",
    "    if (i % 3 == 0) and (i != 0):\n",
    "        continue\n",
    "    print(i, \"name:\", names[i])"
   ]
  },
  {
   "cell_type": "code",
   "execution_count": 18,
   "metadata": {
    "ExecuteTime": {
     "end_time": "2021-05-02T14:58:00.086342Z",
     "start_time": "2021-05-02T14:58:00.053364Z"
    }
   },
   "outputs": [
    {
     "name": "stdout",
     "output_type": "stream",
     "text": [
      "{'names': ['harry', 'michael', 'jordan', 'super'], 'age': [18, 33, 24, 40], 'location': ['jakarta', 'bandung', 'surabaya', 'jogja']}\n"
     ]
    }
   ],
   "source": [
    "profiles = {\n",
    "    \"names\": [\"harry\", \"michael\", \"jordan\", \"super\"],\n",
    "    \"age\": [18, 33, 24, 40],\n",
    "    \"location\": [\"jakarta\", \"bandung\", \"surabaya\", \"jogja\"]\n",
    "}\n",
    "print(profiles)"
   ]
  },
  {
   "cell_type": "code",
   "execution_count": 19,
   "metadata": {
    "ExecuteTime": {
     "end_time": "2021-05-02T14:58:05.840525Z",
     "start_time": "2021-05-02T14:58:05.811542Z"
    }
   },
   "outputs": [
    {
     "name": "stdout",
     "output_type": "stream",
     "text": [
      "dict_keys(['names', 'age', 'location'])\n",
      "dict_values([['harry', 'michael', 'jordan', 'super'], [18, 33, 24, 40], ['jakarta', 'bandung', 'surabaya', 'jogja']])\n"
     ]
    }
   ],
   "source": [
    "print(profiles.keys())\n",
    "print(profiles.values())"
   ]
  },
  {
   "cell_type": "code",
   "execution_count": 20,
   "metadata": {
    "ExecuteTime": {
     "end_time": "2021-05-02T14:58:12.317276Z",
     "start_time": "2021-05-02T14:58:12.293774Z"
    }
   },
   "outputs": [
    {
     "name": "stdout",
     "output_type": "stream",
     "text": [
      "names - ['harry', 'michael', 'jordan', 'super']\n",
      "age - [18, 33, 24, 40]\n",
      "location - ['jakarta', 'bandung', 'surabaya', 'jogja']\n"
     ]
    }
   ],
   "source": [
    "for key in profiles.keys():\n",
    "    print(key, \"-\", profiles[key])"
   ]
  },
  {
   "cell_type": "code",
   "execution_count": 21,
   "metadata": {
    "ExecuteTime": {
     "end_time": "2021-05-02T14:58:21.249291Z",
     "start_time": "2021-05-02T14:58:21.219310Z"
    }
   },
   "outputs": [
    {
     "name": "stdout",
     "output_type": "stream",
     "text": [
      "names - ['harry', 'michael', 'jordan', 'super']\n",
      "age - [18, 33, 24, 40]\n",
      "location - ['jakarta', 'bandung', 'surabaya', 'jogja']\n"
     ]
    }
   ],
   "source": [
    "for key, value in profiles.items():\n",
    "    print(key, \"-\", value)"
   ]
  },
  {
   "cell_type": "code",
   "execution_count": 22,
   "metadata": {
    "ExecuteTime": {
     "end_time": "2021-05-02T14:58:29.624469Z",
     "start_time": "2021-05-02T14:58:29.593491Z"
    }
   },
   "outputs": [
    {
     "data": {
      "text/plain": [
       "['Adit', 'Bagus', 'Daniel', 'Dezenia', 'Ilham', 'Maria', 'Yusuf']"
      ]
     },
     "execution_count": 22,
     "metadata": {},
     "output_type": "execute_result"
    }
   ],
   "source": [
    "names"
   ]
  },
  {
   "cell_type": "code",
   "execution_count": 23,
   "metadata": {
    "ExecuteTime": {
     "end_time": "2021-05-02T14:58:37.989312Z",
     "start_time": "2021-05-02T14:58:37.955352Z"
    }
   },
   "outputs": [
    {
     "name": "stdout",
     "output_type": "stream",
     "text": [
      "{'names': ['harry', 'michael', 'jordan', 'super'], 'age': [18, 33, 24, 40], 'location': ['jakarta', 'bandung', 'surabaya', 'jogja'], 'twos': [0, 2, 4, 6], 'threes': [0, 3, 6, 9], 'fours': [0, 4, 8, 12], 'fives': [0, 5, 10, 15], 'sixes': [0, 6, 12, 18]}\n"
     ]
    }
   ],
   "source": [
    "list_keys = [\"twos\", \"threes\", \"fours\", \"fives\", \"sixes\"]\n",
    "multiplier = 2\n",
    "for key in list_keys:\n",
    "    value = []\n",
    "    for i in range(4):\n",
    "        value.append(i * multiplier)\n",
    "    multiplier = multiplier + 1\n",
    "    profiles[key] = value\n",
    "\n",
    "print(profiles)"
   ]
  },
  {
   "cell_type": "code",
   "execution_count": null,
   "metadata": {},
   "outputs": [],
   "source": []
  }
 ],
 "metadata": {
  "kernelspec": {
   "display_name": "Python 3",
   "language": "python",
   "name": "python3"
  },
  "language_info": {
   "codemirror_mode": {
    "name": "ipython",
    "version": 3
   },
   "file_extension": ".py",
   "mimetype": "text/x-python",
   "name": "python",
   "nbconvert_exporter": "python",
   "pygments_lexer": "ipython3",
   "version": "3.8.3"
  },
  "toc": {
   "base_numbering": 1,
   "nav_menu": {},
   "number_sections": true,
   "sideBar": true,
   "skip_h1_title": false,
   "title_cell": "Table of Contents",
   "title_sidebar": "Contents",
   "toc_cell": false,
   "toc_position": {},
   "toc_section_display": true,
   "toc_window_display": false
  },
  "varInspector": {
   "cols": {
    "lenName": 16,
    "lenType": 16,
    "lenVar": 40
   },
   "kernels_config": {
    "python": {
     "delete_cmd_postfix": "",
     "delete_cmd_prefix": "del ",
     "library": "var_list.py",
     "varRefreshCmd": "print(var_dic_list())"
    },
    "r": {
     "delete_cmd_postfix": ") ",
     "delete_cmd_prefix": "rm(",
     "library": "var_list.r",
     "varRefreshCmd": "cat(var_dic_list()) "
    }
   },
   "types_to_exclude": [
    "module",
    "function",
    "builtin_function_or_method",
    "instance",
    "_Feature"
   ],
   "window_display": false
  }
 },
 "nbformat": 4,
 "nbformat_minor": 4
}
