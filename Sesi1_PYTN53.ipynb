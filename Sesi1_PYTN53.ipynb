{
 "cells": [
  {
   "cell_type": "markdown",
   "metadata": {},
   "source": [
    "Ini adalah markdown **bold**"
   ]
  },
  {
   "cell_type": "code",
   "execution_count": 1,
   "metadata": {
    "ExecuteTime": {
     "end_time": "2021-04-30T08:46:51.876447Z",
     "start_time": "2021-04-30T08:46:51.812468Z"
    }
   },
   "outputs": [
    {
     "data": {
      "text/plain": [
       "100"
      ]
     },
     "execution_count": 1,
     "metadata": {},
     "output_type": "execute_result"
    }
   ],
   "source": [
    "100"
   ]
  },
  {
   "cell_type": "code",
   "execution_count": 2,
   "metadata": {
    "ExecuteTime": {
     "end_time": "2021-04-30T08:46:52.044428Z",
     "start_time": "2021-04-30T08:46:51.884447Z"
    }
   },
   "outputs": [
    {
     "name": "stdout",
     "output_type": "stream",
     "text": [
      "Python 3.8.5\n"
     ]
    }
   ],
   "source": [
    "!python --version"
   ]
  },
  {
   "cell_type": "code",
   "execution_count": 3,
   "metadata": {
    "ExecuteTime": {
     "end_time": "2021-04-30T08:46:52.076419Z",
     "start_time": "2021-04-30T08:46:52.052424Z"
    }
   },
   "outputs": [
    {
     "data": {
      "text/plain": [
       "int"
      ]
     },
     "execution_count": 3,
     "metadata": {},
     "output_type": "execute_result"
    }
   ],
   "source": [
    "type(999)"
   ]
  },
  {
   "cell_type": "code",
   "execution_count": 4,
   "metadata": {
    "ExecuteTime": {
     "end_time": "2021-04-30T08:46:52.124413Z",
     "start_time": "2021-04-30T08:46:52.092417Z"
    }
   },
   "outputs": [
    {
     "data": {
      "text/plain": [
       "float"
      ]
     },
     "execution_count": 4,
     "metadata": {},
     "output_type": "execute_result"
    }
   ],
   "source": [
    "type(3.14)"
   ]
  },
  {
   "cell_type": "code",
   "execution_count": 5,
   "metadata": {
    "ExecuteTime": {
     "end_time": "2021-04-30T08:46:52.172406Z",
     "start_time": "2021-04-30T08:46:52.132413Z"
    }
   },
   "outputs": [
    {
     "data": {
      "text/plain": [
       "float"
      ]
     },
     "execution_count": 5,
     "metadata": {},
     "output_type": "execute_result"
    }
   ],
   "source": [
    "type(1.0)"
   ]
  },
  {
   "cell_type": "code",
   "execution_count": 6,
   "metadata": {
    "ExecuteTime": {
     "end_time": "2021-04-30T08:46:52.212401Z",
     "start_time": "2021-04-30T08:46:52.180405Z"
    }
   },
   "outputs": [
    {
     "data": {
      "text/plain": [
       "int"
      ]
     },
     "execution_count": 6,
     "metadata": {},
     "output_type": "execute_result"
    }
   ],
   "source": [
    "type(1)"
   ]
  },
  {
   "cell_type": "code",
   "execution_count": 7,
   "metadata": {
    "ExecuteTime": {
     "end_time": "2021-04-30T08:46:52.268395Z",
     "start_time": "2021-04-30T08:46:52.220401Z"
    }
   },
   "outputs": [
    {
     "name": "stdout",
     "output_type": "stream",
     "text": [
      "1.0\n"
     ]
    },
    {
     "data": {
      "text/plain": [
       "float"
      ]
     },
     "execution_count": 7,
     "metadata": {},
     "output_type": "execute_result"
    }
   ],
   "source": [
    "print(1.)\n",
    "type(1.)"
   ]
  },
  {
   "cell_type": "code",
   "execution_count": 8,
   "metadata": {
    "ExecuteTime": {
     "end_time": "2021-04-30T08:46:52.316389Z",
     "start_time": "2021-04-30T08:46:52.276394Z"
    }
   },
   "outputs": [
    {
     "name": "stdout",
     "output_type": "stream",
     "text": [
      "0.3\n"
     ]
    },
    {
     "data": {
      "text/plain": [
       "float"
      ]
     },
     "execution_count": 8,
     "metadata": {},
     "output_type": "execute_result"
    }
   ],
   "source": [
    "print(.3)\n",
    "type(.3)"
   ]
  },
  {
   "cell_type": "code",
   "execution_count": 9,
   "metadata": {
    "ExecuteTime": {
     "end_time": "2021-04-30T08:46:52.380380Z",
     "start_time": "2021-04-30T08:46:52.324387Z"
    }
   },
   "outputs": [
    {
     "name": "stdout",
     "output_type": "stream",
     "text": [
      "hacktiv8\n"
     ]
    },
    {
     "data": {
      "text/plain": [
       "(NoneType, NoneType)"
      ]
     },
     "execution_count": 9,
     "metadata": {},
     "output_type": "execute_result"
    }
   ],
   "source": [
    "type(print(\"hacktiv8\")), type(None)"
   ]
  },
  {
   "cell_type": "code",
   "execution_count": 10,
   "metadata": {
    "ExecuteTime": {
     "end_time": "2021-04-30T08:46:52.428375Z",
     "start_time": "2021-04-30T08:46:52.388379Z"
    }
   },
   "outputs": [
    {
     "name": "stdout",
     "output_type": "stream",
     "text": [
      "123450\n"
     ]
    }
   ],
   "source": [
    "print(12345*10)"
   ]
  },
  {
   "cell_type": "code",
   "execution_count": 11,
   "metadata": {
    "ExecuteTime": {
     "end_time": "2021-04-30T08:46:52.492363Z",
     "start_time": "2021-04-30T08:46:52.436372Z"
    }
   },
   "outputs": [
    {
     "data": {
      "text/plain": [
       "123450"
      ]
     },
     "execution_count": 11,
     "metadata": {},
     "output_type": "execute_result"
    }
   ],
   "source": [
    "12345*10"
   ]
  },
  {
   "cell_type": "code",
   "execution_count": 12,
   "metadata": {
    "ExecuteTime": {
     "end_time": "2021-04-30T08:46:52.524360Z",
     "start_time": "2021-04-30T08:46:52.500363Z"
    }
   },
   "outputs": [
    {
     "name": "stdout",
     "output_type": "stream",
     "text": [
      "None\n"
     ]
    }
   ],
   "source": [
    "print(None)"
   ]
  },
  {
   "cell_type": "code",
   "execution_count": 13,
   "metadata": {
    "ExecuteTime": {
     "end_time": "2021-04-30T08:46:52.556354Z",
     "start_time": "2021-04-30T08:46:52.532358Z"
    }
   },
   "outputs": [],
   "source": [
    "None"
   ]
  },
  {
   "cell_type": "code",
   "execution_count": 14,
   "metadata": {
    "ExecuteTime": {
     "end_time": "2021-04-30T08:46:52.588353Z",
     "start_time": "2021-04-30T08:46:52.564355Z"
    }
   },
   "outputs": [
    {
     "data": {
      "text/plain": [
       "'Hacktiv8'"
      ]
     },
     "execution_count": 14,
     "metadata": {},
     "output_type": "execute_result"
    }
   ],
   "source": [
    "\"Hacktiv8\""
   ]
  },
  {
   "cell_type": "code",
   "execution_count": 15,
   "metadata": {
    "ExecuteTime": {
     "end_time": "2021-04-30T08:46:52.620349Z",
     "start_time": "2021-04-30T08:46:52.596350Z"
    }
   },
   "outputs": [
    {
     "name": "stdout",
     "output_type": "stream",
     "text": [
      "hacktiv8\n"
     ]
    }
   ],
   "source": [
    "print(\"hacktiv8\")"
   ]
  },
  {
   "cell_type": "code",
   "execution_count": 16,
   "metadata": {
    "ExecuteTime": {
     "end_time": "2021-04-30T08:46:52.668341Z",
     "start_time": "2021-04-30T08:46:52.628346Z"
    }
   },
   "outputs": [
    {
     "name": "stdout",
     "output_type": "stream",
     "text": [
      "hacktiv8\n",
      "hacktiv8\n",
      "hacktiv8\n",
      "hacktiv8\n",
      "ha'tiv\n",
      "\"I am attending ha'tiv8\", He said\n",
      "\"I am attending ha'tiv\", He said\n",
      "--\n",
      "I am ha'tiv.\n",
      "I am attending hacktiv8\n",
      "--\n"
     ]
    }
   ],
   "source": [
    "print(\"hacktiv8\")\n",
    "print('hacktiv8')\n",
    "print(\"\"\"hacktiv8\"\"\")\n",
    "print('''hacktiv8''')\n",
    "print(\"ha'tiv\")\n",
    "print(\"\\\"I am attending ha'tiv8\\\", He said\")\n",
    "print('\"I am attending ha\\'tiv\", He said')\n",
    "print(\"\"\"--\n",
    "I am ha'tiv.\n",
    "I am attending hacktiv8\n",
    "--\"\"\")"
   ]
  },
  {
   "cell_type": "code",
   "execution_count": 17,
   "metadata": {
    "ExecuteTime": {
     "end_time": "2021-04-30T08:46:52.716333Z",
     "start_time": "2021-04-30T08:46:52.676340Z"
    }
   },
   "outputs": [
    {
     "data": {
      "text/plain": [
       "(int, float, str)"
      ]
     },
     "execution_count": 17,
     "metadata": {},
     "output_type": "execute_result"
    }
   ],
   "source": [
    "type(100), type(100.), type('100')"
   ]
  },
  {
   "cell_type": "code",
   "execution_count": 18,
   "metadata": {
    "ExecuteTime": {
     "end_time": "2021-04-30T08:46:52.740329Z",
     "start_time": "2021-04-30T08:46:52.724334Z"
    }
   },
   "outputs": [
    {
     "data": {
      "text/plain": [
       "(100, 100.0, '100')"
      ]
     },
     "execution_count": 18,
     "metadata": {},
     "output_type": "execute_result"
    }
   ],
   "source": [
    "100, 100., '100'"
   ]
  },
  {
   "cell_type": "code",
   "execution_count": 19,
   "metadata": {
    "ExecuteTime": {
     "end_time": "2021-04-30T08:46:52.764330Z",
     "start_time": "2021-04-30T08:46:52.748329Z"
    }
   },
   "outputs": [
    {
     "name": "stdout",
     "output_type": "stream",
     "text": [
      "100 100.0 100\n"
     ]
    }
   ],
   "source": [
    "print(100, 100., '100')"
   ]
  },
  {
   "cell_type": "code",
   "execution_count": 20,
   "metadata": {
    "ExecuteTime": {
     "end_time": "2021-04-30T08:46:52.796323Z",
     "start_time": "2021-04-30T08:46:52.764330Z"
    }
   },
   "outputs": [
    {
     "data": {
      "text/plain": [
       "(int, float)"
      ]
     },
     "execution_count": 20,
     "metadata": {},
     "output_type": "execute_result"
    }
   ],
   "source": [
    "type(-10), type(-10.)"
   ]
  },
  {
   "cell_type": "code",
   "execution_count": 21,
   "metadata": {
    "ExecuteTime": {
     "end_time": "2021-04-30T08:46:52.820321Z",
     "start_time": "2021-04-30T08:46:52.796323Z"
    }
   },
   "outputs": [
    {
     "data": {
      "text/plain": [
       "(bool, bool)"
      ]
     },
     "execution_count": 21,
     "metadata": {},
     "output_type": "execute_result"
    }
   ],
   "source": [
    "type(True), type(False)"
   ]
  },
  {
   "cell_type": "code",
   "execution_count": 22,
   "metadata": {
    "ExecuteTime": {
     "end_time": "2021-04-30T08:46:52.860314Z",
     "start_time": "2021-04-30T08:46:52.820321Z"
    }
   },
   "outputs": [
    {
     "name": "stdout",
     "output_type": "stream",
     "text": [
      "True\n"
     ]
    }
   ],
   "source": [
    "print(True)"
   ]
  },
  {
   "cell_type": "code",
   "execution_count": 23,
   "metadata": {
    "ExecuteTime": {
     "end_time": "2021-04-30T08:46:52.892309Z",
     "start_time": "2021-04-30T08:46:52.876313Z"
    }
   },
   "outputs": [
    {
     "data": {
      "text/plain": [
       "True"
      ]
     },
     "execution_count": 23,
     "metadata": {},
     "output_type": "execute_result"
    }
   ],
   "source": [
    "True"
   ]
  },
  {
   "cell_type": "code",
   "execution_count": 24,
   "metadata": {
    "ExecuteTime": {
     "end_time": "2021-04-30T08:46:52.988299Z",
     "start_time": "2021-04-30T08:46:52.900310Z"
    }
   },
   "outputs": [
    {
     "data": {
      "text/plain": [
       "(10, 100.0, '19', True, True, True, True, True)"
      ]
     },
     "execution_count": 24,
     "metadata": {},
     "output_type": "execute_result"
    }
   ],
   "source": [
    "int(10.71), float(100), str(19), bool(1), bool(-10), bool(1000), bool(1.34), bool(\"hactiv8\")"
   ]
  },
  {
   "cell_type": "code",
   "execution_count": 25,
   "metadata": {
    "ExecuteTime": {
     "end_time": "2021-04-30T08:46:53.036291Z",
     "start_time": "2021-04-30T08:46:52.988299Z"
    }
   },
   "outputs": [
    {
     "data": {
      "text/plain": [
       "(False, False, False)"
      ]
     },
     "execution_count": 25,
     "metadata": {},
     "output_type": "execute_result"
    }
   ],
   "source": [
    "bool(0), bool(None), bool(\"\")"
   ]
  },
  {
   "cell_type": "code",
   "execution_count": 26,
   "metadata": {
    "ExecuteTime": {
     "end_time": "2021-04-30T08:46:53.116279Z",
     "start_time": "2021-04-30T08:46:53.052288Z"
    }
   },
   "outputs": [
    {
     "name": "stdout",
     "output_type": "stream",
     "text": [
      "1000 <class 'int'>\n",
      "500 500 500 <class 'int'> <class 'int'> <class 'int'>\n",
      "3.14 3.14 <class 'float'> <class 'float'>\n"
     ]
    }
   ],
   "source": [
    "n = 1000\n",
    "a = b = c = 500\n",
    "x = y = 3.14\n",
    "\n",
    "print(n, type(n))\n",
    "print(a, b, c, type(a), type(b), type(c))\n",
    "print(x, y, type(x), type(y))"
   ]
  },
  {
   "cell_type": "code",
   "execution_count": 27,
   "metadata": {
    "ExecuteTime": {
     "end_time": "2021-04-30T08:46:53.148280Z",
     "start_time": "2021-04-30T08:46:53.116279Z"
    }
   },
   "outputs": [
    {
     "name": "stdout",
     "output_type": "stream",
     "text": [
      "Hacktivate <class 'str'>\n",
      "1000 <class 'str'>\n"
     ]
    }
   ],
   "source": [
    "s = \"Hacktivate\"\n",
    "n = str(n)\n",
    "\n",
    "print(s, type(s))\n",
    "print(n, type(n))"
   ]
  },
  {
   "cell_type": "code",
   "execution_count": 28,
   "metadata": {
    "ExecuteTime": {
     "end_time": "2021-04-30T08:46:53.180276Z",
     "start_time": "2021-04-30T08:46:53.148280Z"
    }
   },
   "outputs": [
    {
     "name": "stdout",
     "output_type": "stream",
     "text": [
      "janssen 14 5\n",
      "10\n"
     ]
    }
   ],
   "source": [
    "username = \"janssen\"\n",
    "num_students = 14\n",
    "COUNT = 5\n",
    "\n",
    "print(username, num_students, COUNT)\n",
    "\n",
    "COUNT = 10\n",
    "print(COUNT)"
   ]
  },
  {
   "cell_type": "code",
   "execution_count": 31,
   "metadata": {
    "ExecuteTime": {
     "end_time": "2021-04-30T08:48:30.266318Z",
     "start_time": "2021-04-30T08:48:30.210334Z"
    }
   },
   "outputs": [
    {
     "name": "stdout",
     "output_type": "stream",
     "text": [
      "1000\n",
      "250000 <class 'int'>\n",
      "1.0 <class 'float'>\n",
      "1 <class 'int'>\n",
      "2.5 <class 'float'>\n",
      "2 <class 'int'>\n",
      "2.0\n",
      "496.86 <class 'float'>\n",
      "250000\n",
      "9.8596\n",
      "499\n"
     ]
    }
   ],
   "source": [
    "n = 1000\n",
    "a = b = c = 500\n",
    "x = y = 3.14\n",
    "\n",
    "print(a + b)\n",
    "print(a * b, type(a*b))\n",
    "print(a / b, type(a / b))\n",
    "print(a // b, type(a // b))\n",
    "print(5 / 2, type(5 / 2))\n",
    "print(5 // 2, type(5 // 2))\n",
    "print(4 / 2)\n",
    "print(a - x, type(a - x))\n",
    "print(a ** 2)\n",
    "print(x ** 2)\n",
    "print(n % 501)"
   ]
  },
  {
   "cell_type": "markdown",
   "metadata": {},
   "source": [
    "**5/2 = (2*2) + 1**"
   ]
  },
  {
   "cell_type": "markdown",
   "metadata": {},
   "source": [
    "**10/6 = (6*1) + 4**"
   ]
  },
  {
   "cell_type": "code",
   "execution_count": 32,
   "metadata": {
    "ExecuteTime": {
     "end_time": "2021-04-30T08:48:30.314330Z",
     "start_time": "2021-04-30T08:48:30.274316Z"
    }
   },
   "outputs": [
    {
     "data": {
      "text/plain": [
       "(1, 4)"
      ]
     },
     "execution_count": 32,
     "metadata": {},
     "output_type": "execute_result"
    }
   ],
   "source": [
    "5 % 2, 10 % 6"
   ]
  },
  {
   "cell_type": "code",
   "execution_count": 33,
   "metadata": {
    "ExecuteTime": {
     "end_time": "2021-04-30T08:48:30.346318Z",
     "start_time": "2021-04-30T08:48:30.322310Z"
    }
   },
   "outputs": [
    {
     "name": "stdout",
     "output_type": "stream",
     "text": [
      "HacktivateHacktivateHacktivate\n",
      "HacktivateHacktivateHacktivate\n"
     ]
    }
   ],
   "source": [
    "print(s * 3)\n",
    "print(s + s + s)"
   ]
  },
  {
   "cell_type": "code",
   "execution_count": 34,
   "metadata": {
    "ExecuteTime": {
     "end_time": "2021-04-30T08:48:30.394319Z",
     "start_time": "2021-04-30T08:48:30.354317Z"
    }
   },
   "outputs": [
    {
     "name": "stdout",
     "output_type": "stream",
     "text": [
      "Hacktivate3\n",
      "hacktiv 8\n",
      "hacktiv8 hacktiv8 hacktiv8\n"
     ]
    }
   ],
   "source": [
    "print(s + str(3))\n",
    "print(\"hacktiv\" + \" \" + \"8\") # hacktiv 8\n",
    "print(\"hacktiv\" + \"\" + \"8\", \"hacktiv\" + \"8\", \"hacktiv\" + str(8)) # hacktiv 8"
   ]
  },
  {
   "cell_type": "code",
   "execution_count": 35,
   "metadata": {
    "ExecuteTime": {
     "end_time": "2021-04-30T08:48:30.610271Z",
     "start_time": "2021-04-30T08:48:30.402299Z"
    }
   },
   "outputs": [
    {
     "ename": "TypeError",
     "evalue": "unsupported operand type(s) for -: 'str' and 'str'",
     "output_type": "error",
     "traceback": [
      "\u001b[1;31m---------------------------------------------------------------------------\u001b[0m",
      "\u001b[1;31mTypeError\u001b[0m                                 Traceback (most recent call last)",
      "\u001b[1;32m<ipython-input-35-2efc4c808ca1>\u001b[0m in \u001b[0;36m<module>\u001b[1;34m\u001b[0m\n\u001b[1;32m----> 1\u001b[1;33m \u001b[0mprint\u001b[0m\u001b[1;33m(\u001b[0m\u001b[0ms\u001b[0m \u001b[1;33m-\u001b[0m \u001b[0ms\u001b[0m\u001b[1;33m)\u001b[0m\u001b[1;33m\u001b[0m\u001b[1;33m\u001b[0m\u001b[0m\n\u001b[0m",
      "\u001b[1;31mTypeError\u001b[0m: unsupported operand type(s) for -: 'str' and 'str'"
     ]
    }
   ],
   "source": [
    "print(s - s)"
   ]
  },
  {
   "cell_type": "code",
   "execution_count": 36,
   "metadata": {
    "ExecuteTime": {
     "end_time": "2021-04-30T08:49:00.980108Z",
     "start_time": "2021-04-30T08:49:00.956112Z"
    }
   },
   "outputs": [
    {
     "name": "stdout",
     "output_type": "stream",
     "text": [
      "\n"
     ]
    },
    {
     "data": {
      "text/plain": [
       "NoneType"
      ]
     },
     "execution_count": 36,
     "metadata": {},
     "output_type": "execute_result"
    }
   ],
   "source": [
    "type(print(\"ackackaksk\" * -1))"
   ]
  },
  {
   "cell_type": "code",
   "execution_count": 37,
   "metadata": {
    "ExecuteTime": {
     "end_time": "2021-04-30T08:49:09.329728Z",
     "start_time": "2021-04-30T08:49:09.281715Z"
    }
   },
   "outputs": [
    {
     "ename": "TypeError",
     "evalue": "unsupported operand type(s) for /: 'str' and 'int'",
     "output_type": "error",
     "traceback": [
      "\u001b[1;31m---------------------------------------------------------------------------\u001b[0m",
      "\u001b[1;31mTypeError\u001b[0m                                 Traceback (most recent call last)",
      "\u001b[1;32m<ipython-input-37-9f2fd499a496>\u001b[0m in \u001b[0;36m<module>\u001b[1;34m\u001b[0m\n\u001b[1;32m----> 1\u001b[1;33m \u001b[0mprint\u001b[0m\u001b[1;33m(\u001b[0m\u001b[0ms\u001b[0m \u001b[1;33m/\u001b[0m\u001b[1;36m2\u001b[0m\u001b[1;33m)\u001b[0m\u001b[1;33m\u001b[0m\u001b[1;33m\u001b[0m\u001b[0m\n\u001b[0m",
      "\u001b[1;31mTypeError\u001b[0m: unsupported operand type(s) for /: 'str' and 'int'"
     ]
    }
   ],
   "source": [
    "print(s /2)"
   ]
  },
  {
   "cell_type": "code",
   "execution_count": 38,
   "metadata": {
    "ExecuteTime": {
     "end_time": "2021-04-30T08:49:23.291815Z",
     "start_time": "2021-04-30T08:49:23.259819Z"
    }
   },
   "outputs": [
    {
     "name": "stdout",
     "output_type": "stream",
     "text": [
      "monty's python.start!\n",
      "hacktiv8\n",
      "Monty'S Python.Start!\n",
      "HACKTIV8\n",
      "My9NaMeis\n",
      "my9nameis\n"
     ]
    }
   ],
   "source": [
    "book_title = \"monty's python.start!\"\n",
    "bootcamp_name = \"hacktiv8\"\n",
    "password = \"mY9nAmEIS\"\n",
    "\n",
    "print(book_title)\n",
    "print(bootcamp_name)\n",
    "print(book_title.title())\n",
    "print(bootcamp_name.upper())\n",
    "print(password.swapcase())\n",
    "print(password.lower()) #built-in methon of string"
   ]
  },
  {
   "cell_type": "code",
   "execution_count": 1,
   "metadata": {
    "ExecuteTime": {
     "end_time": "2021-05-02T14:25:21.177722Z",
     "start_time": "2021-05-02T14:25:21.097732Z"
    }
   },
   "outputs": [
    {
     "data": {
      "text/plain": [
       "\"Whether you think you can, or you think you can't--you're right.\""
      ]
     },
     "execution_count": 1,
     "metadata": {},
     "output_type": "execute_result"
    }
   ],
   "source": [
    "\"\"\"Whether you think you can, or you think you can't--you're right.\"\"\""
   ]
  },
  {
   "cell_type": "code",
   "execution_count": 2,
   "metadata": {
    "ExecuteTime": {
     "end_time": "2021-05-02T14:25:29.917418Z",
     "start_time": "2021-05-02T14:25:29.885440Z"
    }
   },
   "outputs": [
    {
     "name": "stdout",
     "output_type": "stream",
     "text": [
      "Whether you think you can, or you think you can't--you're right.\n"
     ]
    }
   ],
   "source": [
    "print(\"Whether you think you can, or you think you can't--you're right.\")"
   ]
  },
  {
   "cell_type": "code",
   "execution_count": 3,
   "metadata": {
    "ExecuteTime": {
     "end_time": "2021-05-02T14:25:39.486360Z",
     "start_time": "2021-05-02T14:25:39.470372Z"
    }
   },
   "outputs": [
    {
     "data": {
      "text/plain": [
       "\"Whether you think you can, or you think you can't--you're right.\""
      ]
     },
     "execution_count": 3,
     "metadata": {},
     "output_type": "execute_result"
    }
   ],
   "source": [
    "'Whether you think you can, or you think you can\\'t--you\\'re right.'"
   ]
  },
  {
   "cell_type": "markdown",
   "metadata": {},
   "source": [
    "## List"
   ]
  },
  {
   "cell_type": "code",
   "execution_count": 4,
   "metadata": {
    "ExecuteTime": {
     "end_time": "2021-05-02T14:29:02.732383Z",
     "start_time": "2021-05-02T14:29:02.711398Z"
    }
   },
   "outputs": [
    {
     "name": "stdout",
     "output_type": "stream",
     "text": [
      "['Adit', 'Bagus', 'Daniel', 'Dezenia', 'Ilham', 'Maria', 'Yusuf'] <class 'list'>\n"
     ]
    }
   ],
   "source": [
    "names = [\"Adit\", \"Bagus\", \"Daniel\", \"Dezenia\", \"Ilham\", \"Maria\", \"Yusuf\"]\n",
    "print(names, type(names))"
   ]
  },
  {
   "cell_type": "code",
   "execution_count": 5,
   "metadata": {
    "ExecuteTime": {
     "end_time": "2021-05-02T14:29:10.056899Z",
     "start_time": "2021-05-02T14:29:10.035911Z"
    }
   },
   "outputs": [
    {
     "name": "stdout",
     "output_type": "stream",
     "text": [
      "['Satya', 'Richard', 'Stefani', 'Timotius', 'Veronica', 'Vicny', 'Yoga']\n"
     ]
    }
   ],
   "source": [
    "others = [\"Satya\", \"Richard\", \"Stefani\", \"Timotius\", \"Veronica\", \"Vicny\", \"Yoga\"]\n",
    "print(others)"
   ]
  },
  {
   "cell_type": "code",
   "execution_count": 6,
   "metadata": {
    "ExecuteTime": {
     "end_time": "2021-05-02T14:29:21.477452Z",
     "start_time": "2021-05-02T14:29:21.457464Z"
    }
   },
   "outputs": [
    {
     "data": {
      "text/plain": [
       "False"
      ]
     },
     "execution_count": 6,
     "metadata": {},
     "output_type": "execute_result"
    }
   ],
   "source": [
    "names == others"
   ]
  },
  {
   "cell_type": "code",
   "execution_count": 7,
   "metadata": {
    "ExecuteTime": {
     "end_time": "2021-05-02T14:29:28.946278Z",
     "start_time": "2021-05-02T14:29:28.928288Z"
    }
   },
   "outputs": [
    {
     "data": {
      "text/plain": [
       "7"
      ]
     },
     "execution_count": 7,
     "metadata": {},
     "output_type": "execute_result"
    }
   ],
   "source": [
    "len(others)"
   ]
  },
  {
   "cell_type": "code",
   "execution_count": 8,
   "metadata": {
    "ExecuteTime": {
     "end_time": "2021-05-02T14:29:35.150484Z",
     "start_time": "2021-05-02T14:29:35.122501Z"
    }
   },
   "outputs": [
    {
     "name": "stdout",
     "output_type": "stream",
     "text": [
      "length others: 7\n",
      "length names: 7\n"
     ]
    }
   ],
   "source": [
    "num_others = len(others)\n",
    "num_names = len(names)\n",
    "\n",
    "print(\"length others:\", num_others)\n",
    "print(\"length names:\", num_names)"
   ]
  },
  {
   "cell_type": "code",
   "execution_count": 9,
   "metadata": {
    "ExecuteTime": {
     "end_time": "2021-05-02T14:29:40.769065Z",
     "start_time": "2021-05-02T14:29:40.732089Z"
    }
   },
   "outputs": [
    {
     "data": {
      "text/plain": [
       "5"
      ]
     },
     "execution_count": 9,
     "metadata": {},
     "output_type": "execute_result"
    }
   ],
   "source": [
    "len([1,2,3,4, [1,2,3]])"
   ]
  },
  {
   "cell_type": "code",
   "execution_count": 12,
   "metadata": {
    "ExecuteTime": {
     "end_time": "2021-05-02T14:30:09.665598Z",
     "start_time": "2021-05-02T14:30:09.624624Z"
    }
   },
   "outputs": [
    {
     "data": {
      "text/plain": [
       "[[1, 2, 3], [2, 3], ['satu', 'tiga', 'dua', 'empat']]"
      ]
     },
     "execution_count": 12,
     "metadata": {},
     "output_type": "execute_result"
    }
   ],
   "source": [
    "[[1,2,3],\n",
    " [2,3],\n",
    " [\"satu\",\"tiga\",\"dua\",\"empat\"]]"
   ]
  },
  {
   "cell_type": "code",
   "execution_count": 13,
   "metadata": {
    "ExecuteTime": {
     "end_time": "2021-05-02T14:30:15.116318Z",
     "start_time": "2021-05-02T14:30:15.090333Z"
    }
   },
   "outputs": [
    {
     "data": {
      "text/plain": [
       "'Bagus'"
      ]
     },
     "execution_count": 13,
     "metadata": {},
     "output_type": "execute_result"
    }
   ],
   "source": [
    "names[1]"
   ]
  },
  {
   "cell_type": "code",
   "execution_count": 14,
   "metadata": {
    "ExecuteTime": {
     "end_time": "2021-05-02T14:30:21.184031Z",
     "start_time": "2021-05-02T14:30:21.152050Z"
    }
   },
   "outputs": [
    {
     "name": "stdout",
     "output_type": "stream",
     "text": [
      "item 1 of names: Adit\n",
      "item 2 of names: Bagus\n",
      "item 5 of names: Ilham\n"
     ]
    }
   ],
   "source": [
    "print(\"item 1 of names:\", names[0])\n",
    "print(\"item 2 of names:\", names[1])\n",
    "print(\"item 5 of names:\", names[4])"
   ]
  },
  {
   "cell_type": "code",
   "execution_count": 15,
   "metadata": {
    "ExecuteTime": {
     "end_time": "2021-05-02T14:30:29.741643Z",
     "start_time": "2021-05-02T14:30:29.721655Z"
    }
   },
   "outputs": [
    {
     "name": "stdout",
     "output_type": "stream",
     "text": [
      "[None, True, -100, 'ho', 0.0001]\n",
      "None True\n"
     ]
    }
   ],
   "source": [
    "randoms = [None, True, -100, \"ho\", .0001]\n",
    "print(randoms)\n",
    "print(randoms[0], randoms[1]) #tidak bisa lebih dari index yang tersedia"
   ]
  },
  {
   "cell_type": "code",
   "execution_count": 16,
   "metadata": {
    "ExecuteTime": {
     "end_time": "2021-05-02T14:30:35.946544Z",
     "start_time": "2021-05-02T14:30:35.920562Z"
    }
   },
   "outputs": [
    {
     "name": "stdout",
     "output_type": "stream",
     "text": [
      "True\n"
     ]
    },
    {
     "data": {
      "text/plain": [
       "<function print>"
      ]
     },
     "execution_count": 16,
     "metadata": {},
     "output_type": "execute_result"
    }
   ],
   "source": [
    "print(names[0] == names[-len(names)])\n",
    "print #masih belum slesai"
   ]
  },
  {
   "cell_type": "code",
   "execution_count": 17,
   "metadata": {
    "ExecuteTime": {
     "end_time": "2021-05-02T14:30:54.669450Z",
     "start_time": "2021-05-02T14:30:54.635481Z"
    }
   },
   "outputs": [
    {
     "name": "stdout",
     "output_type": "stream",
     "text": [
      "['Satya', 'Richard', 'Stefani', 'Timotius', 'Veronica', 'Vicny', 'Yoga']\n",
      "['Richard', 'Stefani', 'Timotius'] ['Stefani', 'Timotius', 'Veronica'] ['Satya', 'Richard', 'Stefani']\n",
      "['Adit', 'Bagus', 'Daniel', 'Dezenia', 'Ilham', 'Maria', 'Yusuf']\n",
      "['Adit', 'Bagus', 'Daniel'] ['Dezenia', 'Ilham', 'Maria', 'Yusuf']\n",
      "[[1, 2, 3], 4, [5, 6, 7]]\n"
     ]
    }
   ],
   "source": [
    "print(others)\n",
    "print(others[1:4], others[2:5], others[0:len(others)//2])\n",
    "\n",
    "print(names)\n",
    "print(names[0:len(names)//2], names[len(names)//2:])\n",
    "\n",
    "nested_list = [[1, 2, 3], 4, [5, 6, 7]]\n",
    "print(nested_list)\n",
    "# masih belum slesai"
   ]
  },
  {
   "cell_type": "markdown",
   "metadata": {
    "ExecuteTime": {
     "end_time": "2021-05-02T14:31:13.915467Z",
     "start_time": "2021-05-02T14:31:13.899497Z"
    }
   },
   "source": [
    "## Tuples"
   ]
  },
  {
   "cell_type": "code",
   "execution_count": 19,
   "metadata": {
    "ExecuteTime": {
     "end_time": "2021-05-02T14:32:25.372557Z",
     "start_time": "2021-05-02T14:32:25.330589Z"
    }
   },
   "outputs": [
    {
     "name": "stdout",
     "output_type": "stream",
     "text": [
      "('PYTN53', 'PYTN54', 53, 54) 4 PYTN53 <class 'tuple'>\n",
      "(('PYTN053ONL', 53), ('PYTN054ONL', 54)) 2 ('PYTN053ONL', 53) <class 'tuple'>\n"
     ]
    }
   ],
   "source": [
    "batch = (\"PYTN53\", \"PYTN54\", 53, 54)\n",
    "batches = ((\"PYTN053ONL\", 53), (\"PYTN054ONL\", 54))\n",
    "\n",
    "print(batch, len(batch), batch[0], type(batch))\n",
    "print(batches, len(batches), batches[0], type(batches))"
   ]
  },
  {
   "cell_type": "code",
   "execution_count": 20,
   "metadata": {
    "ExecuteTime": {
     "end_time": "2021-05-02T14:32:33.058566Z",
     "start_time": "2021-05-02T14:32:33.022613Z"
    }
   },
   "outputs": [
    {
     "name": "stdout",
     "output_type": "stream",
     "text": [
      "PYTN53\n",
      "PYTN54\n",
      "53\n",
      "54\n",
      "('PYTN053ONL', 53)\n",
      "('PYTN054ONL', 54)\n",
      "('PYTN053ONL', 53)\n",
      "('PYTN054ONL', 54)\n"
     ]
    }
   ],
   "source": [
    "a, b, c, d = batch\n",
    "print(a)\n",
    "print(b)\n",
    "print(c)\n",
    "print(d)\n",
    "\n",
    "batch_name, batch_number = batches\n",
    "print(batch_name)\n",
    "print(batch_number)\n",
    "\n",
    "name_1, _ = batches\n",
    "print(name_1)\n",
    "print(_) #gak akan dipakai"
   ]
  },
  {
   "cell_type": "markdown",
   "metadata": {},
   "source": [
    "## Dictionary"
   ]
  },
  {
   "cell_type": "code",
   "execution_count": 21,
   "metadata": {
    "ExecuteTime": {
     "end_time": "2021-05-02T14:32:53.068175Z",
     "start_time": "2021-05-02T14:32:53.038203Z"
    }
   },
   "outputs": [
    {
     "name": "stdout",
     "output_type": "stream",
     "text": [
      "{'names': ['harry', 'michael', 'jordan', 'super'], 'age': [18, 33, 23, 40], 100: 'seratus'}\n"
     ]
    }
   ],
   "source": [
    "profiles = {\"names\" : [\"harry\", \"michael\", \"jordan\", \"super\"], \n",
    "            \"age\" : [18, 33, 23, 40],\n",
    "            100 : \"seratus\"\n",
    "           }\n",
    "print(profiles) #belum slesai"
   ]
  },
  {
   "cell_type": "code",
   "execution_count": null,
   "metadata": {},
   "outputs": [],
   "source": []
  }
 ],
 "metadata": {
  "kernelspec": {
   "display_name": "Python 3",
   "language": "python",
   "name": "python3"
  },
  "language_info": {
   "codemirror_mode": {
    "name": "ipython",
    "version": 3
   },
   "file_extension": ".py",
   "mimetype": "text/x-python",
   "name": "python",
   "nbconvert_exporter": "python",
   "pygments_lexer": "ipython3",
   "version": "3.8.3"
  },
  "toc": {
   "base_numbering": 1,
   "nav_menu": {},
   "number_sections": true,
   "sideBar": true,
   "skip_h1_title": false,
   "title_cell": "Table of Contents",
   "title_sidebar": "Contents",
   "toc_cell": false,
   "toc_position": {},
   "toc_section_display": true,
   "toc_window_display": false
  },
  "varInspector": {
   "cols": {
    "lenName": 16,
    "lenType": 16,
    "lenVar": 40
   },
   "kernels_config": {
    "python": {
     "delete_cmd_postfix": "",
     "delete_cmd_prefix": "del ",
     "library": "var_list.py",
     "varRefreshCmd": "print(var_dic_list())"
    },
    "r": {
     "delete_cmd_postfix": ") ",
     "delete_cmd_prefix": "rm(",
     "library": "var_list.r",
     "varRefreshCmd": "cat(var_dic_list()) "
    }
   },
   "types_to_exclude": [
    "module",
    "function",
    "builtin_function_or_method",
    "instance",
    "_Feature"
   ],
   "window_display": false
  }
 },
 "nbformat": 4,
 "nbformat_minor": 4
}
