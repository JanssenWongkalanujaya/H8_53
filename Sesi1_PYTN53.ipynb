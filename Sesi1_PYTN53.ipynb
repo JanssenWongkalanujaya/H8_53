{
 "cells": [
  {
   "cell_type": "markdown",
   "metadata": {},
   "source": [
    "Ini adalah markdown **bold**"
   ]
  },
  {
   "cell_type": "code",
   "execution_count": 2,
   "metadata": {
    "ExecuteTime": {
     "end_time": "2021-05-05T08:51:56.904061Z",
     "start_time": "2021-05-05T08:51:56.872066Z"
    }
   },
   "outputs": [
    {
     "data": {
      "text/plain": [
       "100"
      ]
     },
     "execution_count": 2,
     "metadata": {},
     "output_type": "execute_result"
    }
   ],
   "source": [
    "100"
   ]
  },
  {
   "cell_type": "code",
   "execution_count": 3,
   "metadata": {
    "ExecuteTime": {
     "end_time": "2021-05-05T08:51:58.077063Z",
     "start_time": "2021-05-05T08:51:57.901087Z"
    }
   },
   "outputs": [
    {
     "name": "stdout",
     "output_type": "stream",
     "text": [
      "Python 3.8.3\n"
     ]
    }
   ],
   "source": [
    "!python --version"
   ]
  },
  {
   "cell_type": "code",
   "execution_count": 4,
   "metadata": {
    "ExecuteTime": {
     "end_time": "2021-05-05T08:52:01.135899Z",
     "start_time": "2021-05-05T08:52:01.103902Z"
    }
   },
   "outputs": [
    {
     "data": {
      "text/plain": [
       "int"
      ]
     },
     "execution_count": 4,
     "metadata": {},
     "output_type": "execute_result"
    }
   ],
   "source": [
    "type(999)"
   ]
  },
  {
   "cell_type": "code",
   "execution_count": 5,
   "metadata": {
    "ExecuteTime": {
     "end_time": "2021-05-05T08:52:03.125214Z",
     "start_time": "2021-05-05T08:52:03.101219Z"
    }
   },
   "outputs": [
    {
     "data": {
      "text/plain": [
       "float"
      ]
     },
     "execution_count": 5,
     "metadata": {},
     "output_type": "execute_result"
    }
   ],
   "source": [
    "type(3.14)"
   ]
  },
  {
   "cell_type": "code",
   "execution_count": 6,
   "metadata": {
    "ExecuteTime": {
     "end_time": "2021-05-05T08:52:10.982655Z",
     "start_time": "2021-05-05T08:52:10.958659Z"
    }
   },
   "outputs": [
    {
     "data": {
      "text/plain": [
       "float"
      ]
     },
     "execution_count": 6,
     "metadata": {},
     "output_type": "execute_result"
    }
   ],
   "source": [
    "type(1.0)"
   ]
  },
  {
   "cell_type": "code",
   "execution_count": 7,
   "metadata": {
    "ExecuteTime": {
     "end_time": "2021-05-05T08:52:17.445122Z",
     "start_time": "2021-05-05T08:52:17.421128Z"
    }
   },
   "outputs": [
    {
     "data": {
      "text/plain": [
       "int"
      ]
     },
     "execution_count": 7,
     "metadata": {},
     "output_type": "execute_result"
    }
   ],
   "source": [
    "type(1)"
   ]
  },
  {
   "cell_type": "code",
   "execution_count": 8,
   "metadata": {
    "ExecuteTime": {
     "end_time": "2021-05-05T08:52:25.384173Z",
     "start_time": "2021-05-05T08:52:25.360179Z"
    }
   },
   "outputs": [
    {
     "name": "stdout",
     "output_type": "stream",
     "text": [
      "1.0\n"
     ]
    },
    {
     "data": {
      "text/plain": [
       "float"
      ]
     },
     "execution_count": 8,
     "metadata": {},
     "output_type": "execute_result"
    }
   ],
   "source": [
    "print(1.)\n",
    "type(1.)"
   ]
  },
  {
   "cell_type": "code",
   "execution_count": 9,
   "metadata": {
    "ExecuteTime": {
     "end_time": "2021-05-05T08:52:36.807135Z",
     "start_time": "2021-05-05T08:52:36.775146Z"
    }
   },
   "outputs": [
    {
     "name": "stdout",
     "output_type": "stream",
     "text": [
      "0.3\n"
     ]
    },
    {
     "data": {
      "text/plain": [
       "float"
      ]
     },
     "execution_count": 9,
     "metadata": {},
     "output_type": "execute_result"
    }
   ],
   "source": [
    "print(.3)\n",
    "type(.3)"
   ]
  },
  {
   "cell_type": "code",
   "execution_count": 10,
   "metadata": {
    "ExecuteTime": {
     "end_time": "2021-05-05T08:52:41.603324Z",
     "start_time": "2021-05-05T08:52:41.571328Z"
    }
   },
   "outputs": [
    {
     "name": "stdout",
     "output_type": "stream",
     "text": [
      "hacktiv8\n"
     ]
    },
    {
     "data": {
      "text/plain": [
       "(NoneType, NoneType)"
      ]
     },
     "execution_count": 10,
     "metadata": {},
     "output_type": "execute_result"
    }
   ],
   "source": [
    "type(print(\"hacktiv8\")), type(None)"
   ]
  },
  {
   "cell_type": "code",
   "execution_count": 11,
   "metadata": {
    "ExecuteTime": {
     "end_time": "2021-05-05T08:52:46.348393Z",
     "start_time": "2021-05-05T08:52:46.332404Z"
    }
   },
   "outputs": [
    {
     "name": "stdout",
     "output_type": "stream",
     "text": [
      "123450\n"
     ]
    }
   ],
   "source": [
    "print(12345*10)"
   ]
  },
  {
   "cell_type": "code",
   "execution_count": 12,
   "metadata": {
    "ExecuteTime": {
     "end_time": "2021-05-05T08:52:52.492158Z",
     "start_time": "2021-05-05T08:52:52.460164Z"
    }
   },
   "outputs": [
    {
     "data": {
      "text/plain": [
       "123450"
      ]
     },
     "execution_count": 12,
     "metadata": {},
     "output_type": "execute_result"
    }
   ],
   "source": [
    "12345*10"
   ]
  },
  {
   "cell_type": "code",
   "execution_count": 13,
   "metadata": {
    "ExecuteTime": {
     "end_time": "2021-05-05T08:52:55.068119Z",
     "start_time": "2021-05-05T08:52:55.052126Z"
    }
   },
   "outputs": [
    {
     "name": "stdout",
     "output_type": "stream",
     "text": [
      "None\n"
     ]
    }
   ],
   "source": [
    "print(None)"
   ]
  },
  {
   "cell_type": "code",
   "execution_count": 14,
   "metadata": {
    "ExecuteTime": {
     "end_time": "2021-05-05T08:52:56.857666Z",
     "start_time": "2021-05-05T08:52:56.833672Z"
    }
   },
   "outputs": [],
   "source": [
    "None"
   ]
  },
  {
   "cell_type": "code",
   "execution_count": 15,
   "metadata": {
    "ExecuteTime": {
     "end_time": "2021-05-05T08:52:59.392706Z",
     "start_time": "2021-05-05T08:52:59.360712Z"
    }
   },
   "outputs": [
    {
     "data": {
      "text/plain": [
       "'Hacktiv8'"
      ]
     },
     "execution_count": 15,
     "metadata": {},
     "output_type": "execute_result"
    }
   ],
   "source": [
    "\"Hacktiv8\""
   ]
  },
  {
   "cell_type": "code",
   "execution_count": 16,
   "metadata": {
    "ExecuteTime": {
     "end_time": "2021-05-05T08:53:02.700481Z",
     "start_time": "2021-05-05T08:53:02.684496Z"
    }
   },
   "outputs": [
    {
     "name": "stdout",
     "output_type": "stream",
     "text": [
      "hacktiv8\n"
     ]
    }
   ],
   "source": [
    "print(\"hacktiv8\")"
   ]
  },
  {
   "cell_type": "code",
   "execution_count": 16,
   "metadata": {
    "ExecuteTime": {
     "end_time": "2021-04-30T08:46:52.668341Z",
     "start_time": "2021-04-30T08:46:52.628346Z"
    }
   },
   "outputs": [
    {
     "name": "stdout",
     "output_type": "stream",
     "text": [
      "hacktiv8\n",
      "hacktiv8\n",
      "hacktiv8\n",
      "hacktiv8\n",
      "ha'tiv\n",
      "\"I am attending ha'tiv8\", He said\n",
      "\"I am attending ha'tiv\", He said\n",
      "--\n",
      "I am ha'tiv.\n",
      "I am attending hacktiv8\n",
      "--\n"
     ]
    }
   ],
   "source": [
    "print(\"hacktiv8\")\n",
    "print('hacktiv8')\n",
    "print(\"\"\"hacktiv8\"\"\")\n",
    "print('''hacktiv8''')\n",
    "print(\"ha'tiv\")\n",
    "print(\"\\\"I am attending ha'tiv8\\\", He said\")\n",
    "print('\"I am attending ha\\'tiv\", He said')\n",
    "print(\"\"\"--\n",
    "I am ha'tiv.\n",
    "I am attending hacktiv8\n",
    "--\"\"\")"
   ]
  },
  {
   "cell_type": "code",
   "execution_count": 17,
   "metadata": {
    "ExecuteTime": {
     "end_time": "2021-05-05T09:25:23.114432Z",
     "start_time": "2021-05-05T09:25:23.090438Z"
    }
   },
   "outputs": [
    {
     "data": {
      "text/plain": [
       "(int, float, str)"
      ]
     },
     "execution_count": 17,
     "metadata": {},
     "output_type": "execute_result"
    }
   ],
   "source": [
    "type(100), type(100.), type('100')"
   ]
  },
  {
   "cell_type": "code",
   "execution_count": 18,
   "metadata": {
    "ExecuteTime": {
     "end_time": "2021-05-05T09:25:24.004548Z",
     "start_time": "2021-05-05T09:25:23.972550Z"
    }
   },
   "outputs": [
    {
     "data": {
      "text/plain": [
       "(100, 100.0, '100')"
      ]
     },
     "execution_count": 18,
     "metadata": {},
     "output_type": "execute_result"
    }
   ],
   "source": [
    "100, 100., '100'"
   ]
  },
  {
   "cell_type": "code",
   "execution_count": 19,
   "metadata": {
    "ExecuteTime": {
     "end_time": "2021-05-05T09:25:28.715698Z",
     "start_time": "2021-05-05T09:25:28.691699Z"
    }
   },
   "outputs": [
    {
     "name": "stdout",
     "output_type": "stream",
     "text": [
      "100 100.0 100\n"
     ]
    }
   ],
   "source": [
    "print(100, 100., '100')"
   ]
  },
  {
   "cell_type": "code",
   "execution_count": 20,
   "metadata": {
    "ExecuteTime": {
     "end_time": "2021-05-05T09:25:32.548929Z",
     "start_time": "2021-05-05T09:25:32.524940Z"
    }
   },
   "outputs": [
    {
     "data": {
      "text/plain": [
       "(int, float)"
      ]
     },
     "execution_count": 20,
     "metadata": {},
     "output_type": "execute_result"
    }
   ],
   "source": [
    "type(-10), type(-10.)"
   ]
  },
  {
   "cell_type": "code",
   "execution_count": 21,
   "metadata": {
    "ExecuteTime": {
     "end_time": "2021-05-05T09:25:34.273752Z",
     "start_time": "2021-05-05T09:25:34.241765Z"
    }
   },
   "outputs": [
    {
     "data": {
      "text/plain": [
       "(bool, bool)"
      ]
     },
     "execution_count": 21,
     "metadata": {},
     "output_type": "execute_result"
    }
   ],
   "source": [
    "type(True), type(False)"
   ]
  },
  {
   "cell_type": "code",
   "execution_count": 22,
   "metadata": {
    "ExecuteTime": {
     "end_time": "2021-05-05T09:25:40.711545Z",
     "start_time": "2021-05-05T09:25:40.687556Z"
    }
   },
   "outputs": [
    {
     "name": "stdout",
     "output_type": "stream",
     "text": [
      "True\n"
     ]
    }
   ],
   "source": [
    "print(True)"
   ]
  },
  {
   "cell_type": "code",
   "execution_count": 23,
   "metadata": {
    "ExecuteTime": {
     "end_time": "2021-05-05T09:25:42.889548Z",
     "start_time": "2021-05-05T09:25:42.865560Z"
    }
   },
   "outputs": [
    {
     "data": {
      "text/plain": [
       "True"
      ]
     },
     "execution_count": 23,
     "metadata": {},
     "output_type": "execute_result"
    }
   ],
   "source": [
    "True"
   ]
  },
  {
   "cell_type": "code",
   "execution_count": 24,
   "metadata": {
    "ExecuteTime": {
     "end_time": "2021-05-05T09:25:48.434720Z",
     "start_time": "2021-05-05T09:25:48.394734Z"
    }
   },
   "outputs": [
    {
     "data": {
      "text/plain": [
       "(10, 100.0, '19', True, True, True, True, True)"
      ]
     },
     "execution_count": 24,
     "metadata": {},
     "output_type": "execute_result"
    }
   ],
   "source": [
    "int(10.71), float(100), str(19), bool(1), bool(-10), bool(1000), bool(1.34), bool(\"hactiv8\")"
   ]
  },
  {
   "cell_type": "code",
   "execution_count": 25,
   "metadata": {
    "ExecuteTime": {
     "end_time": "2021-05-05T09:25:53.971920Z",
     "start_time": "2021-05-05T09:25:53.947925Z"
    }
   },
   "outputs": [
    {
     "data": {
      "text/plain": [
       "(False, False, False)"
      ]
     },
     "execution_count": 25,
     "metadata": {},
     "output_type": "execute_result"
    }
   ],
   "source": [
    "bool(0), bool(None), bool(\"\")"
   ]
  },
  {
   "cell_type": "code",
   "execution_count": 26,
   "metadata": {
    "ExecuteTime": {
     "end_time": "2021-05-05T09:25:59.439142Z",
     "start_time": "2021-05-05T09:25:59.399147Z"
    }
   },
   "outputs": [
    {
     "name": "stdout",
     "output_type": "stream",
     "text": [
      "1000 <class 'int'>\n",
      "500 500 500 <class 'int'> <class 'int'> <class 'int'>\n",
      "3.14 3.14 <class 'float'> <class 'float'>\n"
     ]
    }
   ],
   "source": [
    "n = 1000\n",
    "a = b = c = 500\n",
    "x = y = 3.14\n",
    "\n",
    "print(n, type(n))\n",
    "print(a, b, c, type(a), type(b), type(c))\n",
    "print(x, y, type(x), type(y))"
   ]
  },
  {
   "cell_type": "code",
   "execution_count": 27,
   "metadata": {
    "ExecuteTime": {
     "end_time": "2021-05-05T09:26:14.741541Z",
     "start_time": "2021-05-05T09:26:14.717554Z"
    }
   },
   "outputs": [
    {
     "name": "stdout",
     "output_type": "stream",
     "text": [
      "Hacktivate <class 'str'>\n",
      "1000 <class 'str'>\n"
     ]
    }
   ],
   "source": [
    "s = \"Hacktivate\"\n",
    "n = str(n)\n",
    "\n",
    "print(s, type(s))\n",
    "print(n, type(n))"
   ]
  },
  {
   "cell_type": "code",
   "execution_count": 28,
   "metadata": {
    "ExecuteTime": {
     "end_time": "2021-05-05T09:26:32.480594Z",
     "start_time": "2021-05-05T09:26:32.448589Z"
    }
   },
   "outputs": [
    {
     "name": "stdout",
     "output_type": "stream",
     "text": [
      "janssen 14 5\n",
      "10\n"
     ]
    }
   ],
   "source": [
    "username = \"janssen\"\n",
    "num_students = 14\n",
    "COUNT = 5\n",
    "\n",
    "print(username, num_students, COUNT)\n",
    "\n",
    "COUNT = 10\n",
    "print(COUNT)"
   ]
  },
  {
   "cell_type": "code",
   "execution_count": 29,
   "metadata": {
    "ExecuteTime": {
     "end_time": "2021-05-05T09:39:05.673714Z",
     "start_time": "2021-05-05T09:39:04.654661Z"
    }
   },
   "outputs": [
    {
     "name": "stdout",
     "output_type": "stream",
     "text": [
      "1000\n",
      "250000 <class 'int'>\n",
      "1.0 <class 'float'>\n",
      "1 <class 'int'>\n",
      "2.5 <class 'float'>\n",
      "2 <class 'int'>\n",
      "2.0\n",
      "496.86 <class 'float'>\n",
      "250000\n",
      "9.8596\n"
     ]
    },
    {
     "ename": "TypeError",
     "evalue": "not all arguments converted during string formatting",
     "output_type": "error",
     "traceback": [
      "\u001b[1;31m---------------------------------------------------------------------------\u001b[0m",
      "\u001b[1;31mTypeError\u001b[0m                                 Traceback (most recent call last)",
      "\u001b[1;32m<ipython-input-29-5b29ecce47f1>\u001b[0m in \u001b[0;36m<module>\u001b[1;34m\u001b[0m\n\u001b[0;32m      9\u001b[0m \u001b[0mprint\u001b[0m\u001b[1;33m(\u001b[0m\u001b[0ma\u001b[0m \u001b[1;33m**\u001b[0m \u001b[1;36m2\u001b[0m\u001b[1;33m)\u001b[0m\u001b[1;33m\u001b[0m\u001b[1;33m\u001b[0m\u001b[0m\n\u001b[0;32m     10\u001b[0m \u001b[0mprint\u001b[0m\u001b[1;33m(\u001b[0m\u001b[0mx\u001b[0m \u001b[1;33m**\u001b[0m \u001b[1;36m2\u001b[0m\u001b[1;33m)\u001b[0m\u001b[1;33m\u001b[0m\u001b[1;33m\u001b[0m\u001b[0m\n\u001b[1;32m---> 11\u001b[1;33m \u001b[0mprint\u001b[0m\u001b[1;33m(\u001b[0m\u001b[0mn\u001b[0m \u001b[1;33m%\u001b[0m \u001b[1;36m501\u001b[0m\u001b[1;33m)\u001b[0m\u001b[1;33m\u001b[0m\u001b[1;33m\u001b[0m\u001b[0m\n\u001b[0m",
      "\u001b[1;31mTypeError\u001b[0m: not all arguments converted during string formatting"
     ]
    }
   ],
   "source": [
    "print(a + b)\n",
    "print(a * b, type(a*b))\n",
    "print(a / b, type(a / b))\n",
    "print(a // b, type(a // b))\n",
    "print(5 / 2, type(5 / 2))\n",
    "print(5 // 2, type(5 // 2))\n",
    "print(4 / 2)\n",
    "print(a - x, type(a - x))\n",
    "print(a ** 2)\n",
    "print(x ** 2)\n",
    "print(n % 501)"
   ]
  },
  {
   "cell_type": "markdown",
   "metadata": {},
   "source": [
    "**5/2 = (2*2) + 1**"
   ]
  },
  {
   "cell_type": "markdown",
   "metadata": {},
   "source": [
    "**10/6 = (6*1) + 4**"
   ]
  },
  {
   "cell_type": "code",
   "execution_count": 30,
   "metadata": {
    "ExecuteTime": {
     "end_time": "2021-05-05T09:39:33.063403Z",
     "start_time": "2021-05-05T09:39:33.031416Z"
    }
   },
   "outputs": [
    {
     "data": {
      "text/plain": [
       "(1, 4)"
      ]
     },
     "execution_count": 30,
     "metadata": {},
     "output_type": "execute_result"
    }
   ],
   "source": [
    "5 % 2, 10 % 6"
   ]
  },
  {
   "cell_type": "code",
   "execution_count": 31,
   "metadata": {
    "ExecuteTime": {
     "end_time": "2021-05-05T09:39:34.830149Z",
     "start_time": "2021-05-05T09:39:34.806150Z"
    }
   },
   "outputs": [
    {
     "name": "stdout",
     "output_type": "stream",
     "text": [
      "HacktivateHacktivateHacktivate\n",
      "HacktivateHacktivateHacktivate\n"
     ]
    }
   ],
   "source": [
    "print(s * 3)\n",
    "print(s + s + s)"
   ]
  },
  {
   "cell_type": "code",
   "execution_count": 32,
   "metadata": {
    "ExecuteTime": {
     "end_time": "2021-05-05T09:43:49.137918Z",
     "start_time": "2021-05-05T09:43:49.113921Z"
    }
   },
   "outputs": [
    {
     "name": "stdout",
     "output_type": "stream",
     "text": [
      "Hacktivate3\n",
      "hacktiv 8\n",
      "hacktiv8 hacktiv8 hacktiv8\n"
     ]
    }
   ],
   "source": [
    "print(s + str(3))\n",
    "print(\"hacktiv\" + \" \" + \"8\") # hacktiv 8\n",
    "print(\"hacktiv\" + \"\" + \"8\", \"hacktiv\" + \"8\", \"hacktiv\" + str(8)) # hacktiv 8"
   ]
  },
  {
   "cell_type": "code",
   "execution_count": 33,
   "metadata": {
    "ExecuteTime": {
     "end_time": "2021-05-05T09:43:52.707988Z",
     "start_time": "2021-05-05T09:43:52.651973Z"
    }
   },
   "outputs": [
    {
     "ename": "TypeError",
     "evalue": "unsupported operand type(s) for -: 'str' and 'str'",
     "output_type": "error",
     "traceback": [
      "\u001b[1;31m---------------------------------------------------------------------------\u001b[0m",
      "\u001b[1;31mTypeError\u001b[0m                                 Traceback (most recent call last)",
      "\u001b[1;32m<ipython-input-33-2efc4c808ca1>\u001b[0m in \u001b[0;36m<module>\u001b[1;34m\u001b[0m\n\u001b[1;32m----> 1\u001b[1;33m \u001b[0mprint\u001b[0m\u001b[1;33m(\u001b[0m\u001b[0ms\u001b[0m \u001b[1;33m-\u001b[0m \u001b[0ms\u001b[0m\u001b[1;33m)\u001b[0m\u001b[1;33m\u001b[0m\u001b[1;33m\u001b[0m\u001b[0m\n\u001b[0m",
      "\u001b[1;31mTypeError\u001b[0m: unsupported operand type(s) for -: 'str' and 'str'"
     ]
    }
   ],
   "source": [
    "print(s - s)"
   ]
  },
  {
   "cell_type": "code",
   "execution_count": 34,
   "metadata": {
    "ExecuteTime": {
     "end_time": "2021-05-05T09:43:57.256848Z",
     "start_time": "2021-05-05T09:43:57.224849Z"
    }
   },
   "outputs": [
    {
     "name": "stdout",
     "output_type": "stream",
     "text": [
      "\n"
     ]
    },
    {
     "data": {
      "text/plain": [
       "NoneType"
      ]
     },
     "execution_count": 34,
     "metadata": {},
     "output_type": "execute_result"
    }
   ],
   "source": [
    "type(print(\"ackackaksk\" * -1))"
   ]
  },
  {
   "cell_type": "code",
   "execution_count": 35,
   "metadata": {
    "ExecuteTime": {
     "end_time": "2021-05-05T09:43:59.689836Z",
     "start_time": "2021-05-05T09:43:59.641844Z"
    }
   },
   "outputs": [
    {
     "ename": "TypeError",
     "evalue": "unsupported operand type(s) for /: 'str' and 'int'",
     "output_type": "error",
     "traceback": [
      "\u001b[1;31m---------------------------------------------------------------------------\u001b[0m",
      "\u001b[1;31mTypeError\u001b[0m                                 Traceback (most recent call last)",
      "\u001b[1;32m<ipython-input-35-9f2fd499a496>\u001b[0m in \u001b[0;36m<module>\u001b[1;34m\u001b[0m\n\u001b[1;32m----> 1\u001b[1;33m \u001b[0mprint\u001b[0m\u001b[1;33m(\u001b[0m\u001b[0ms\u001b[0m \u001b[1;33m/\u001b[0m\u001b[1;36m2\u001b[0m\u001b[1;33m)\u001b[0m\u001b[1;33m\u001b[0m\u001b[1;33m\u001b[0m\u001b[0m\n\u001b[0m",
      "\u001b[1;31mTypeError\u001b[0m: unsupported operand type(s) for /: 'str' and 'int'"
     ]
    }
   ],
   "source": [
    "print(s /2)"
   ]
  },
  {
   "cell_type": "code",
   "execution_count": 36,
   "metadata": {
    "ExecuteTime": {
     "end_time": "2021-05-05T09:44:10.435530Z",
     "start_time": "2021-05-05T09:44:10.403543Z"
    }
   },
   "outputs": [
    {
     "name": "stdout",
     "output_type": "stream",
     "text": [
      "monty's python.start!\n",
      "hacktiv8\n",
      "Monty'S Python.Start!\n",
      "HACKTIV8\n",
      "My9NaMeis\n",
      "my9nameis\n"
     ]
    }
   ],
   "source": [
    "book_title = \"monty's python.start!\"\n",
    "bootcamp_name = \"hacktiv8\"\n",
    "password = \"mY9nAmEIS\"\n",
    "\n",
    "print(book_title)\n",
    "print(bootcamp_name)\n",
    "print(book_title.title())\n",
    "print(bootcamp_name.upper())\n",
    "print(password.swapcase())\n",
    "print(password.lower()) #built-in methon of string"
   ]
  },
  {
   "cell_type": "code",
   "execution_count": 37,
   "metadata": {
    "ExecuteTime": {
     "end_time": "2021-05-05T09:44:44.179084Z",
     "start_time": "2021-05-05T09:44:44.147078Z"
    }
   },
   "outputs": [
    {
     "data": {
      "text/plain": [
       "\"Whether you think you can, or you think you can't--you're right.\""
      ]
     },
     "execution_count": 37,
     "metadata": {},
     "output_type": "execute_result"
    }
   ],
   "source": [
    "\"\"\"Whether you think you can, or you think you can't--you're right.\"\"\""
   ]
  },
  {
   "cell_type": "code",
   "execution_count": 38,
   "metadata": {
    "ExecuteTime": {
     "end_time": "2021-05-05T09:44:46.924314Z",
     "start_time": "2021-05-05T09:44:46.892327Z"
    }
   },
   "outputs": [
    {
     "name": "stdout",
     "output_type": "stream",
     "text": [
      "Whether you think you can, or you think you can't--you're right.\n"
     ]
    }
   ],
   "source": [
    "print(\"Whether you think you can, or you think you can't--you're right.\")"
   ]
  },
  {
   "cell_type": "code",
   "execution_count": 39,
   "metadata": {
    "ExecuteTime": {
     "end_time": "2021-05-05T09:44:52.027576Z",
     "start_time": "2021-05-05T09:44:52.003580Z"
    }
   },
   "outputs": [
    {
     "data": {
      "text/plain": [
       "\"Whether you think you can, or you think you can't--you're right.\""
      ]
     },
     "execution_count": 39,
     "metadata": {},
     "output_type": "execute_result"
    }
   ],
   "source": [
    "'Whether you think you can, or you think you can\\'t--you\\'re right.'"
   ]
  },
  {
   "cell_type": "markdown",
   "metadata": {},
   "source": [
    "## List"
   ]
  },
  {
   "cell_type": "code",
   "execution_count": 40,
   "metadata": {
    "ExecuteTime": {
     "end_time": "2021-05-05T09:44:58.714742Z",
     "start_time": "2021-05-05T09:44:58.690745Z"
    }
   },
   "outputs": [
    {
     "name": "stdout",
     "output_type": "stream",
     "text": [
      "['Adit', 'Bagus', 'Daniel', 'Dezenia', 'Ilham', 'Maria', 'Yusuf', 53, 8] <class 'list'>\n"
     ]
    }
   ],
   "source": [
    "names = [\"Adit\", \"Bagus\", \"Daniel\", \"Dezenia\", \"Ilham\", \"Maria\", \"Yusuf\", 53, 8]\n",
    "print(names, type(names))"
   ]
  },
  {
   "cell_type": "code",
   "execution_count": 47,
   "metadata": {
    "ExecuteTime": {
     "end_time": "2021-05-05T09:50:53.688392Z",
     "start_time": "2021-05-05T09:50:53.664397Z"
    }
   },
   "outputs": [
    {
     "name": "stdout",
     "output_type": "stream",
     "text": [
      "['Satya', 'Richard', 'Stefani', 'Timotius', 'Veronica', 'Viony', 'Yoga', 'Yoga']\n"
     ]
    }
   ],
   "source": [
    "others = [\"Satya\", \"Richard\", \"Stefani\", \"Timotius\", \"Veronica\", \"Viony\", \"Yoga\", \"Yoga\"]\n",
    "print(others)"
   ]
  },
  {
   "cell_type": "code",
   "execution_count": 48,
   "metadata": {
    "ExecuteTime": {
     "end_time": "2021-05-05T09:50:55.633482Z",
     "start_time": "2021-05-05T09:50:55.609508Z"
    }
   },
   "outputs": [
    {
     "data": {
      "text/plain": [
       "False"
      ]
     },
     "execution_count": 48,
     "metadata": {},
     "output_type": "execute_result"
    }
   ],
   "source": [
    "names == others"
   ]
  },
  {
   "cell_type": "code",
   "execution_count": 49,
   "metadata": {
    "ExecuteTime": {
     "end_time": "2021-05-05T09:50:57.569984Z",
     "start_time": "2021-05-05T09:50:57.553993Z"
    }
   },
   "outputs": [
    {
     "name": "stdout",
     "output_type": "stream",
     "text": [
      "length others: 8\n",
      "length names: 9\n"
     ]
    }
   ],
   "source": [
    "num_others = len(others)\n",
    "num_names = len(names)\n",
    "\n",
    "print(\"length others:\", num_others)\n",
    "print(\"length names:\", num_names)"
   ]
  },
  {
   "cell_type": "code",
   "execution_count": 50,
   "metadata": {
    "ExecuteTime": {
     "end_time": "2021-05-05T09:50:59.767070Z",
     "start_time": "2021-05-05T09:50:59.743076Z"
    }
   },
   "outputs": [
    {
     "name": "stdout",
     "output_type": "stream",
     "text": [
      "Yoga Yoga\n"
     ]
    }
   ],
   "source": [
    "print(others[7], others[6])"
   ]
  },
  {
   "cell_type": "code",
   "execution_count": 53,
   "metadata": {
    "ExecuteTime": {
     "end_time": "2021-05-05T09:52:20.494457Z",
     "start_time": "2021-05-05T09:52:20.462463Z"
    }
   },
   "outputs": [
    {
     "data": {
      "text/plain": [
       "6"
      ]
     },
     "execution_count": 53,
     "metadata": {},
     "output_type": "execute_result"
    }
   ],
   "source": [
    "len([1, 2, 3, 4, [1, 2, 3], [\"satu\", \"dua\"]])"
   ]
  },
  {
   "cell_type": "code",
   "execution_count": 54,
   "metadata": {
    "ExecuteTime": {
     "end_time": "2021-05-05T09:54:30.464634Z",
     "start_time": "2021-05-05T09:54:30.432638Z"
    }
   },
   "outputs": [
    {
     "data": {
      "text/plain": [
       "[[1, 2, 3], [2, 3], ['satu', 'tiga', 'dua', 'empat']]"
      ]
     },
     "execution_count": 54,
     "metadata": {},
     "output_type": "execute_result"
    }
   ],
   "source": [
    "[[1, 2, 3],\n",
    " [2, 3], \n",
    " [\"satu\", \"tiga\", \"dua\", \"empat\"]]"
   ]
  },
  {
   "cell_type": "code",
   "execution_count": 55,
   "metadata": {
    "ExecuteTime": {
     "end_time": "2021-05-05T09:55:02.770982Z",
     "start_time": "2021-05-05T09:55:02.746983Z"
    }
   },
   "outputs": [
    {
     "name": "stdout",
     "output_type": "stream",
     "text": [
      "item 1 of names: Adit\n",
      "item 2 of names: Bagus\n",
      "item 5 of names: Ilham\n"
     ]
    }
   ],
   "source": [
    "print(\"item 1 of names:\", names[0])\n",
    "print(\"item 2 of names:\", names[1])\n",
    "print(\"item 5 of names:\", names[4])"
   ]
  },
  {
   "cell_type": "code",
   "execution_count": 57,
   "metadata": {
    "ExecuteTime": {
     "end_time": "2021-05-05T09:55:48.619701Z",
     "start_time": "2021-05-05T09:55:48.563700Z"
    }
   },
   "outputs": [
    {
     "name": "stdout",
     "output_type": "stream",
     "text": [
      "[None, True, -100, 'ho', 0.0001]\n",
      "None True\n"
     ]
    },
    {
     "ename": "IndexError",
     "evalue": "list index out of range",
     "output_type": "error",
     "traceback": [
      "\u001b[1;31m---------------------------------------------------------------------------\u001b[0m",
      "\u001b[1;31mIndexError\u001b[0m                                Traceback (most recent call last)",
      "\u001b[1;32m<ipython-input-57-b2def36ae46e>\u001b[0m in \u001b[0;36m<module>\u001b[1;34m\u001b[0m\n\u001b[0;32m      2\u001b[0m \u001b[0mprint\u001b[0m\u001b[1;33m(\u001b[0m\u001b[0mrandoms\u001b[0m\u001b[1;33m)\u001b[0m\u001b[1;33m\u001b[0m\u001b[1;33m\u001b[0m\u001b[0m\n\u001b[0;32m      3\u001b[0m \u001b[0mprint\u001b[0m\u001b[1;33m(\u001b[0m\u001b[0mrandoms\u001b[0m\u001b[1;33m[\u001b[0m\u001b[1;36m0\u001b[0m\u001b[1;33m]\u001b[0m\u001b[1;33m,\u001b[0m \u001b[0mrandoms\u001b[0m\u001b[1;33m[\u001b[0m\u001b[1;36m1\u001b[0m\u001b[1;33m]\u001b[0m\u001b[1;33m)\u001b[0m \u001b[1;31m#tidak bisa lebih dari index yang tersedia\u001b[0m\u001b[1;33m\u001b[0m\u001b[1;33m\u001b[0m\u001b[0m\n\u001b[1;32m----> 4\u001b[1;33m \u001b[0mprint\u001b[0m\u001b[1;33m(\u001b[0m\u001b[0mrandoms\u001b[0m\u001b[1;33m[\u001b[0m\u001b[1;36m99\u001b[0m\u001b[1;33m]\u001b[0m\u001b[1;33m)\u001b[0m\u001b[1;33m\u001b[0m\u001b[1;33m\u001b[0m\u001b[0m\n\u001b[0m",
      "\u001b[1;31mIndexError\u001b[0m: list index out of range"
     ]
    }
   ],
   "source": [
    "randoms = [None, True, -100, \"ho\", .0001]\n",
    "print(randoms)\n",
    "print(randoms[0], randoms[1]) #tidak bisa lebih dari index yang tersedia\n",
    "print(randoms[99])"
   ]
  },
  {
   "cell_type": "code",
   "execution_count": 58,
   "metadata": {
    "ExecuteTime": {
     "end_time": "2021-05-05T09:57:06.342898Z",
     "start_time": "2021-05-05T09:57:06.294905Z"
    }
   },
   "outputs": [
    {
     "name": "stdout",
     "output_type": "stream",
     "text": [
      "True\n",
      "Adit Adit\n",
      "True\n",
      "8 8\n",
      "8 53\n"
     ]
    }
   ],
   "source": [
    "print(names[0] == names[-len(names)])\n",
    "print(names[0], names[-len(names)])\n",
    "print(names[len(names)-1] == names[-1])\n",
    "print(names[len(names)-1], names[-1])\n",
    "print(names[-1], names[-2])"
   ]
  },
  {
   "cell_type": "code",
   "execution_count": 59,
   "metadata": {
    "ExecuteTime": {
     "end_time": "2021-05-05T09:59:53.250070Z",
     "start_time": "2021-05-05T09:59:53.170083Z"
    },
    "scrolled": true
   },
   "outputs": [
    {
     "name": "stdout",
     "output_type": "stream",
     "text": [
      "['Satya', 'Richard', 'Stefani', 'Timotius', 'Veronica', 'Viony', 'Yoga', 'Yoga']\n",
      "['Richard', 'Stefani', 'Timotius'] ['Stefani', 'Timotius', 'Veronica'] ['Satya', 'Richard', 'Stefani', 'Timotius']\n",
      "['Adit', 'Bagus', 'Daniel', 'Dezenia', 'Ilham', 'Maria', 'Yusuf', 53, 8]\n",
      "['Adit', 'Bagus', 'Daniel', 'Dezenia'] ['Ilham', 'Maria', 'Yusuf', 53, 8]\n",
      "[[1, 2, 3], 4, [5, 6, 7]]\n",
      "[1, 2, 3] 4 [5, 6, 7]\n",
      "1 [2, 3]\n"
     ]
    },
    {
     "ename": "TypeError",
     "evalue": "'int' object is not subscriptable",
     "output_type": "error",
     "traceback": [
      "\u001b[1;31m---------------------------------------------------------------------------\u001b[0m",
      "\u001b[1;31mTypeError\u001b[0m                                 Traceback (most recent call last)",
      "\u001b[1;32m<ipython-input-59-c56bb45c6faf>\u001b[0m in \u001b[0;36m<module>\u001b[1;34m\u001b[0m\n\u001b[0;32m      9\u001b[0m \u001b[0mprint\u001b[0m\u001b[1;33m(\u001b[0m\u001b[0mnested_list\u001b[0m\u001b[1;33m[\u001b[0m\u001b[1;36m0\u001b[0m\u001b[1;33m]\u001b[0m\u001b[1;33m,\u001b[0m \u001b[0mnested_list\u001b[0m\u001b[1;33m[\u001b[0m\u001b[1;36m1\u001b[0m\u001b[1;33m]\u001b[0m\u001b[1;33m,\u001b[0m \u001b[0mnested_list\u001b[0m\u001b[1;33m[\u001b[0m\u001b[1;36m2\u001b[0m\u001b[1;33m]\u001b[0m\u001b[1;33m)\u001b[0m\u001b[1;33m\u001b[0m\u001b[1;33m\u001b[0m\u001b[0m\n\u001b[0;32m     10\u001b[0m \u001b[0mprint\u001b[0m\u001b[1;33m(\u001b[0m\u001b[0mnested_list\u001b[0m\u001b[1;33m[\u001b[0m\u001b[1;36m0\u001b[0m\u001b[1;33m]\u001b[0m\u001b[1;33m[\u001b[0m\u001b[1;36m0\u001b[0m\u001b[1;33m]\u001b[0m\u001b[1;33m,\u001b[0m \u001b[0mnested_list\u001b[0m\u001b[1;33m[\u001b[0m\u001b[1;36m0\u001b[0m\u001b[1;33m]\u001b[0m\u001b[1;33m[\u001b[0m\u001b[1;36m1\u001b[0m\u001b[1;33m:\u001b[0m\u001b[1;33m]\u001b[0m\u001b[1;33m)\u001b[0m\u001b[1;33m\u001b[0m\u001b[1;33m\u001b[0m\u001b[0m\n\u001b[1;32m---> 11\u001b[1;33m \u001b[0mprint\u001b[0m\u001b[1;33m(\u001b[0m\u001b[0mnested_list\u001b[0m\u001b[1;33m[\u001b[0m\u001b[1;36m1\u001b[0m\u001b[1;33m]\u001b[0m\u001b[1;33m[\u001b[0m\u001b[1;36m0\u001b[0m\u001b[1;33m]\u001b[0m\u001b[1;33m)\u001b[0m \u001b[1;31m#will throw error\u001b[0m\u001b[1;33m\u001b[0m\u001b[1;33m\u001b[0m\u001b[0m\n\u001b[0m",
      "\u001b[1;31mTypeError\u001b[0m: 'int' object is not subscriptable"
     ]
    }
   ],
   "source": [
    "print(others)\n",
    "print(others[1:4], others[2:5], others[0:len(others)//2])\n",
    "\n",
    "print(names)\n",
    "print(names[0:len(names)//2], names[len(names)//2:])\n",
    "\n",
    "nested_list = [[1, 2, 3], 4, [5, 6, 7]]\n",
    "print(nested_list)\n",
    "print(nested_list[0], nested_list[1], nested_list[2])\n",
    "print(nested_list[0][0], nested_list[0][1:])\n",
    "print(nested_list[1][0]) #will throw error"
   ]
  },
  {
   "cell_type": "code",
   "execution_count": 60,
   "metadata": {
    "ExecuteTime": {
     "end_time": "2021-05-05T13:50:51.720308Z",
     "start_time": "2021-05-05T13:50:51.696324Z"
    }
   },
   "outputs": [
    {
     "name": "stdout",
     "output_type": "stream",
     "text": [
      "['hacktiv8', 'Bagus', 'Daniel', 'Dezenia', 'Ilham', 'Maria', 'Yusuf', 53, 8]\n"
     ]
    }
   ],
   "source": [
    "names[0] = \"hacktiv8\"\n",
    "print(names)"
   ]
  },
  {
   "cell_type": "markdown",
   "metadata": {
    "ExecuteTime": {
     "end_time": "2021-05-02T14:31:13.915467Z",
     "start_time": "2021-05-02T14:31:13.899497Z"
    }
   },
   "source": [
    "## Tuples"
   ]
  },
  {
   "cell_type": "code",
   "execution_count": 61,
   "metadata": {
    "ExecuteTime": {
     "end_time": "2021-05-05T13:51:22.474547Z",
     "start_time": "2021-05-05T13:51:22.440573Z"
    }
   },
   "outputs": [
    {
     "name": "stdout",
     "output_type": "stream",
     "text": [
      "('PYTN53', 'PYTN54', 53, 54) 4 PYTN53 <class 'tuple'>\n",
      "(('PYTN053ONL', 53), ('PYTN054ONL', 54)) 2 ('PYTN053ONL', 53) <class 'tuple'>\n"
     ]
    }
   ],
   "source": [
    "batch = (\"PYTN53\", \"PYTN54\", 53, 54)\n",
    "batches = ((\"PYTN053ONL\", 53), (\"PYTN054ONL\", 54))\n",
    "\n",
    "print(batch, len(batch), batch[0], type(batch))\n",
    "print(batches, len(batches), batches[0], type(batches))"
   ]
  },
  {
   "cell_type": "code",
   "execution_count": 62,
   "metadata": {
    "ExecuteTime": {
     "end_time": "2021-05-05T13:51:46.308612Z",
     "start_time": "2021-05-05T13:51:46.248649Z"
    }
   },
   "outputs": [
    {
     "ename": "TypeError",
     "evalue": "'tuple' object does not support item assignment",
     "output_type": "error",
     "traceback": [
      "\u001b[1;31m---------------------------------------------------------------------------\u001b[0m",
      "\u001b[1;31mTypeError\u001b[0m                                 Traceback (most recent call last)",
      "\u001b[1;32m<ipython-input-62-947c5ceb6bc9>\u001b[0m in \u001b[0;36m<module>\u001b[1;34m\u001b[0m\n\u001b[1;32m----> 1\u001b[1;33m \u001b[0mbatch\u001b[0m\u001b[1;33m[\u001b[0m\u001b[1;33m-\u001b[0m\u001b[1;36m1\u001b[0m\u001b[1;33m]\u001b[0m \u001b[1;33m=\u001b[0m \u001b[1;36m100\u001b[0m \u001b[1;31m#will throw error\u001b[0m\u001b[1;33m\u001b[0m\u001b[1;33m\u001b[0m\u001b[0m\n\u001b[0m",
      "\u001b[1;31mTypeError\u001b[0m: 'tuple' object does not support item assignment"
     ]
    }
   ],
   "source": [
    "batch[-1] = 100 #will throw error"
   ]
  },
  {
   "cell_type": "code",
   "execution_count": 20,
   "metadata": {
    "ExecuteTime": {
     "end_time": "2021-05-02T14:32:33.058566Z",
     "start_time": "2021-05-02T14:32:33.022613Z"
    }
   },
   "outputs": [
    {
     "name": "stdout",
     "output_type": "stream",
     "text": [
      "PYTN53\n",
      "PYTN54\n",
      "53\n",
      "54\n",
      "('PYTN053ONL', 53)\n",
      "('PYTN054ONL', 54)\n",
      "('PYTN053ONL', 53)\n",
      "('PYTN054ONL', 54)\n"
     ]
    }
   ],
   "source": [
    "a, b, c, d = batch\n",
    "print(a)\n",
    "print(b)\n",
    "print(c)\n",
    "print(d)\n",
    "\n",
    "batch_name, batch_number = batches\n",
    "print(batch_name)\n",
    "print(batch_number)\n",
    "\n",
    "name_1, _ = batches\n",
    "print(name_1)\n",
    "print(_) #gak akan dipakai"
   ]
  },
  {
   "cell_type": "markdown",
   "metadata": {},
   "source": [
    "## Dictionary"
   ]
  },
  {
   "cell_type": "code",
   "execution_count": 63,
   "metadata": {
    "ExecuteTime": {
     "end_time": "2021-05-05T13:52:41.303857Z",
     "start_time": "2021-05-05T13:52:41.275348Z"
    }
   },
   "outputs": [
    {
     "name": "stdout",
     "output_type": "stream",
     "text": [
      "{'names': ['harry', 'michael', 'jordan', 'super'], 'age': [18, 33, 23, 40], 100: 'seratus'} <class 'dict'>\n"
     ]
    }
   ],
   "source": [
    "profiles = {\"names\" : [\"harry\", \"michael\", \"jordan\", \"super\"], \n",
    "            \"age\" : [18, 33, 23, 40],\n",
    "            100 : \"seratus\"\n",
    "           }\n",
    "print(profiles, type(profiles))"
   ]
  },
  {
   "cell_type": "code",
   "execution_count": 64,
   "metadata": {
    "ExecuteTime": {
     "end_time": "2021-05-05T13:52:49.963464Z",
     "start_time": "2021-05-05T13:52:49.939472Z"
    }
   },
   "outputs": [
    {
     "data": {
      "text/plain": [
       "['harry', 'michael', 'jordan', 'super']"
      ]
     },
     "execution_count": 64,
     "metadata": {},
     "output_type": "execute_result"
    }
   ],
   "source": [
    "profiles[\"names\"]"
   ]
  },
  {
   "cell_type": "code",
   "execution_count": 65,
   "metadata": {
    "ExecuteTime": {
     "end_time": "2021-05-05T13:52:57.925498Z",
     "start_time": "2021-05-05T13:52:57.894515Z"
    }
   },
   "outputs": [
    {
     "data": {
      "text/plain": [
       "[18, 33, 23, 40]"
      ]
     },
     "execution_count": 65,
     "metadata": {},
     "output_type": "execute_result"
    }
   ],
   "source": [
    "profiles[\"age\"]"
   ]
  },
  {
   "cell_type": "code",
   "execution_count": 66,
   "metadata": {
    "ExecuteTime": {
     "end_time": "2021-05-05T13:53:02.469090Z",
     "start_time": "2021-05-05T13:53:02.438094Z"
    }
   },
   "outputs": [
    {
     "data": {
      "text/plain": [
       "'seratus'"
      ]
     },
     "execution_count": 66,
     "metadata": {},
     "output_type": "execute_result"
    }
   ],
   "source": [
    "profiles[100]"
   ]
  },
  {
   "cell_type": "code",
   "execution_count": 68,
   "metadata": {
    "ExecuteTime": {
     "end_time": "2021-05-05T13:53:16.774827Z",
     "start_time": "2021-05-05T13:53:16.727857Z"
    }
   },
   "outputs": [
    {
     "ename": "KeyError",
     "evalue": "0",
     "output_type": "error",
     "traceback": [
      "\u001b[1;31m---------------------------------------------------------------------------\u001b[0m",
      "\u001b[1;31mKeyError\u001b[0m                                  Traceback (most recent call last)",
      "\u001b[1;32m<ipython-input-68-73e3460314a7>\u001b[0m in \u001b[0;36m<module>\u001b[1;34m\u001b[0m\n\u001b[1;32m----> 1\u001b[1;33m \u001b[0mprofiles\u001b[0m\u001b[1;33m[\u001b[0m\u001b[1;36m0\u001b[0m\u001b[1;33m]\u001b[0m\u001b[1;33m\u001b[0m\u001b[1;33m\u001b[0m\u001b[0m\n\u001b[0m",
      "\u001b[1;31mKeyError\u001b[0m: 0"
     ]
    }
   ],
   "source": [
    "profiles[0]"
   ]
  },
  {
   "cell_type": "code",
   "execution_count": 71,
   "metadata": {
    "ExecuteTime": {
     "end_time": "2021-05-05T13:53:52.568634Z",
     "start_time": "2021-05-05T13:53:52.544657Z"
    }
   },
   "outputs": [
    {
     "name": "stdout",
     "output_type": "stream",
     "text": [
      "dict_keys(['names', 'age', 100])\n",
      "dict_values([['harry', 'michael', 'jordan', 'super'], [18, 33, 23, 40], 'seratus'])\n"
     ]
    }
   ],
   "source": [
    "print(profiles.keys())\n",
    "print(profiles.values())"
   ]
  },
  {
   "cell_type": "code",
   "execution_count": 72,
   "metadata": {
    "ExecuteTime": {
     "end_time": "2021-05-05T13:54:11.196856Z",
     "start_time": "2021-05-05T13:54:11.182864Z"
    }
   },
   "outputs": [],
   "source": [
    "profiles[\"age\"] = 50"
   ]
  },
  {
   "cell_type": "code",
   "execution_count": 73,
   "metadata": {
    "ExecuteTime": {
     "end_time": "2021-05-05T13:54:16.520733Z",
     "start_time": "2021-05-05T13:54:16.491746Z"
    }
   },
   "outputs": [
    {
     "name": "stdout",
     "output_type": "stream",
     "text": [
      "{'names': ['harry', 'michael', 'jordan', 'super'], 'age': 50, 100: 'seratus'}\n"
     ]
    }
   ],
   "source": [
    "print(profiles)"
   ]
  },
  {
   "cell_type": "code",
   "execution_count": 74,
   "metadata": {
    "ExecuteTime": {
     "end_time": "2021-05-05T13:54:46.843908Z",
     "start_time": "2021-05-05T13:54:46.815931Z"
    }
   },
   "outputs": [
    {
     "name": "stdout",
     "output_type": "stream",
     "text": [
      "{'names': ['harry', 'michael', 'jordan', 'super'], 'age': 50, 100: 'seratus', 'location': ['jakarta', 'bandung', 'surabaya']}\n"
     ]
    }
   ],
   "source": [
    "profiles[\"location\"] = [\"jakarta\", \"bandung\", \"surabaya\"]\n",
    "print(profiles)"
   ]
  },
  {
   "cell_type": "code",
   "execution_count": 75,
   "metadata": {
    "ExecuteTime": {
     "end_time": "2021-05-05T13:55:06.440522Z",
     "start_time": "2021-05-05T13:55:06.416536Z"
    }
   },
   "outputs": [],
   "source": [
    "profiles[(1, 2)] = \"(1, 2)\""
   ]
  },
  {
   "cell_type": "code",
   "execution_count": 76,
   "metadata": {
    "ExecuteTime": {
     "end_time": "2021-05-05T13:55:11.466128Z",
     "start_time": "2021-05-05T13:55:11.431152Z"
    }
   },
   "outputs": [
    {
     "data": {
      "text/plain": [
       "{'names': ['harry', 'michael', 'jordan', 'super'],\n",
       " 'age': 50,\n",
       " 100: 'seratus',\n",
       " 'location': ['jakarta', 'bandung', 'surabaya'],\n",
       " (1, 2): '(1, 2)'}"
      ]
     },
     "execution_count": 76,
     "metadata": {},
     "output_type": "execute_result"
    }
   ],
   "source": [
    "profiles"
   ]
  },
  {
   "cell_type": "code",
   "execution_count": 77,
   "metadata": {
    "ExecuteTime": {
     "end_time": "2021-05-05T13:56:13.607005Z",
     "start_time": "2021-05-05T13:56:13.546036Z"
    }
   },
   "outputs": [
    {
     "name": "stdout",
     "output_type": "stream",
     "text": [
      "(1, 2)\n"
     ]
    },
    {
     "ename": "KeyError",
     "evalue": "(3, 4)",
     "output_type": "error",
     "traceback": [
      "\u001b[1;31m---------------------------------------------------------------------------\u001b[0m",
      "\u001b[1;31mKeyError\u001b[0m                                  Traceback (most recent call last)",
      "\u001b[1;32m<ipython-input-77-9249f14ec35a>\u001b[0m in \u001b[0;36m<module>\u001b[1;34m\u001b[0m\n\u001b[0;32m      1\u001b[0m \u001b[0mlist_keys\u001b[0m \u001b[1;33m=\u001b[0m \u001b[1;33m[\u001b[0m\u001b[1;33m(\u001b[0m\u001b[1;36m1\u001b[0m\u001b[1;33m,\u001b[0m\u001b[1;36m2\u001b[0m\u001b[1;33m)\u001b[0m\u001b[1;33m,\u001b[0m \u001b[1;33m(\u001b[0m\u001b[1;36m3\u001b[0m\u001b[1;33m,\u001b[0m \u001b[1;36m4\u001b[0m\u001b[1;33m)\u001b[0m\u001b[1;33m,\u001b[0m \u001b[1;33m(\u001b[0m\u001b[1;36m5\u001b[0m\u001b[1;33m,\u001b[0m \u001b[1;36m6\u001b[0m\u001b[1;33m)\u001b[0m\u001b[1;33m]\u001b[0m\u001b[1;33m\u001b[0m\u001b[1;33m\u001b[0m\u001b[0m\n\u001b[0;32m      2\u001b[0m \u001b[0mprint\u001b[0m\u001b[1;33m(\u001b[0m\u001b[0mprofiles\u001b[0m\u001b[1;33m[\u001b[0m\u001b[0mlist_keys\u001b[0m\u001b[1;33m[\u001b[0m\u001b[1;36m0\u001b[0m\u001b[1;33m]\u001b[0m\u001b[1;33m]\u001b[0m\u001b[1;33m)\u001b[0m\u001b[1;33m\u001b[0m\u001b[1;33m\u001b[0m\u001b[0m\n\u001b[1;32m----> 3\u001b[1;33m \u001b[0mprint\u001b[0m\u001b[1;33m(\u001b[0m\u001b[0mprofiles\u001b[0m\u001b[1;33m[\u001b[0m\u001b[0mlist_keys\u001b[0m\u001b[1;33m[\u001b[0m\u001b[1;36m1\u001b[0m\u001b[1;33m]\u001b[0m\u001b[1;33m]\u001b[0m\u001b[1;33m)\u001b[0m\u001b[1;33m\u001b[0m\u001b[1;33m\u001b[0m\u001b[0m\n\u001b[0m",
      "\u001b[1;31mKeyError\u001b[0m: (3, 4)"
     ]
    }
   ],
   "source": [
    "list_keys = [(1,2), (3, 4), (5, 6)]\n",
    "print(profiles[list_keys[0]])\n",
    "print(profiles[list_keys[1]])"
   ]
  },
  {
   "cell_type": "code",
   "execution_count": null,
   "metadata": {},
   "outputs": [],
   "source": []
  }
 ],
 "metadata": {
  "kernelspec": {
   "display_name": "Python 3",
   "language": "python",
   "name": "python3"
  },
  "language_info": {
   "codemirror_mode": {
    "name": "ipython",
    "version": 3
   },
   "file_extension": ".py",
   "mimetype": "text/x-python",
   "name": "python",
   "nbconvert_exporter": "python",
   "pygments_lexer": "ipython3",
   "version": "3.8.3"
  },
  "toc": {
   "base_numbering": 1,
   "nav_menu": {},
   "number_sections": true,
   "sideBar": true,
   "skip_h1_title": false,
   "title_cell": "Table of Contents",
   "title_sidebar": "Contents",
   "toc_cell": false,
   "toc_position": {},
   "toc_section_display": true,
   "toc_window_display": false
  },
  "varInspector": {
   "cols": {
    "lenName": 16,
    "lenType": 16,
    "lenVar": 40
   },
   "kernels_config": {
    "python": {
     "delete_cmd_postfix": "",
     "delete_cmd_prefix": "del ",
     "library": "var_list.py",
     "varRefreshCmd": "print(var_dic_list())"
    },
    "r": {
     "delete_cmd_postfix": ") ",
     "delete_cmd_prefix": "rm(",
     "library": "var_list.r",
     "varRefreshCmd": "cat(var_dic_list()) "
    }
   },
   "types_to_exclude": [
    "module",
    "function",
    "builtin_function_or_method",
    "instance",
    "_Feature"
   ],
   "window_display": false
  }
 },
 "nbformat": 4,
 "nbformat_minor": 4
}
