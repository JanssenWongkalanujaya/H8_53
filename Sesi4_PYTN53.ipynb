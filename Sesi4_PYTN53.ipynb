{
 "cells": [
  {
   "cell_type": "markdown",
   "metadata": {},
   "source": [
    "# NumPy - Numerical Python"
   ]
  },
  {
   "cell_type": "code",
   "execution_count": 3,
   "metadata": {
    "ExecuteTime": {
     "end_time": "2021-05-25T05:49:17.721770Z",
     "start_time": "2021-05-25T05:49:17.705791Z"
    }
   },
   "outputs": [],
   "source": [
    "import numpy as np"
   ]
  },
  {
   "cell_type": "code",
   "execution_count": 4,
   "metadata": {
    "ExecuteTime": {
     "end_time": "2021-05-25T05:49:19.079578Z",
     "start_time": "2021-05-25T05:49:19.063580Z"
    }
   },
   "outputs": [
    {
     "data": {
      "text/plain": [
       "'1.18.5'"
      ]
     },
     "execution_count": 4,
     "metadata": {},
     "output_type": "execute_result"
    }
   ],
   "source": [
    "np.__version__ #untuk tau veri numpy"
   ]
  },
  {
   "cell_type": "code",
   "execution_count": 5,
   "metadata": {
    "ExecuteTime": {
     "end_time": "2021-05-25T05:49:26.613604Z",
     "start_time": "2021-05-25T05:49:26.589616Z"
    }
   },
   "outputs": [
    {
     "name": "stdout",
     "output_type": "stream",
     "text": [
      "array a from list: [2, 4, 6, 8]\n",
      "array b from list: [2, 2, 1, 1]\n"
     ]
    }
   ],
   "source": [
    "list_array_a = [2, 4, 6, 8]\n",
    "list_array_b = [2, 2, 1, 1]\n",
    "\n",
    "print(\"array a from list:\", list_array_a)\n",
    "print(\"array b from list:\", list_array_b)"
   ]
  },
  {
   "cell_type": "code",
   "execution_count": 6,
   "metadata": {
    "ExecuteTime": {
     "end_time": "2021-05-25T06:17:55.084276Z",
     "start_time": "2021-05-25T06:17:55.060301Z"
    }
   },
   "outputs": [
    {
     "data": {
      "text/plain": [
       "[2, 4, 6, 8, 2, 2, 1, 1]"
      ]
     },
     "execution_count": 6,
     "metadata": {},
     "output_type": "execute_result"
    }
   ],
   "source": [
    "list_array_a + list_array_b"
   ]
  },
  {
   "cell_type": "code",
   "execution_count": 7,
   "metadata": {
    "ExecuteTime": {
     "end_time": "2021-05-25T06:18:00.366748Z",
     "start_time": "2021-05-25T06:17:59.289149Z"
    }
   },
   "outputs": [
    {
     "ename": "TypeError",
     "evalue": "can't multiply sequence by non-int of type 'list'",
     "output_type": "error",
     "traceback": [
      "\u001b[1;31m---------------------------------------------------------------------------\u001b[0m",
      "\u001b[1;31mTypeError\u001b[0m                                 Traceback (most recent call last)",
      "\u001b[1;32m<ipython-input-7-7577f05c44c2>\u001b[0m in \u001b[0;36m<module>\u001b[1;34m\u001b[0m\n\u001b[1;32m----> 1\u001b[1;33m \u001b[0mlist_array_a\u001b[0m \u001b[1;33m*\u001b[0m \u001b[0mlist_array_b\u001b[0m\u001b[1;33m\u001b[0m\u001b[1;33m\u001b[0m\u001b[0m\n\u001b[0m",
      "\u001b[1;31mTypeError\u001b[0m: can't multiply sequence by non-int of type 'list'"
     ]
    }
   ],
   "source": [
    "list_array_a * list_array_b"
   ]
  },
  {
   "cell_type": "code",
   "execution_count": 8,
   "metadata": {
    "ExecuteTime": {
     "end_time": "2021-05-25T06:26:45.127173Z",
     "start_time": "2021-05-25T06:26:45.087175Z"
    }
   },
   "outputs": [
    {
     "name": "stdout",
     "output_type": "stream",
     "text": [
      "[2 4 6 8]\n",
      "[2 2 1 1]\n"
     ]
    }
   ],
   "source": [
    "np_array_a1 = np.array(list_array_a)\n",
    "print(np_array_a1)\n",
    "\n",
    "np_array_b1 = np.array(list_array_b)\n",
    "print(np_array_b1)"
   ]
  },
  {
   "cell_type": "code",
   "execution_count": 10,
   "metadata": {
    "ExecuteTime": {
     "end_time": "2021-05-25T06:27:16.611452Z",
     "start_time": "2021-05-25T06:27:16.587454Z"
    }
   },
   "outputs": [
    {
     "data": {
      "text/plain": [
       "(array([2, 4, 6, 8]), array([2, 2, 1, 1]))"
      ]
     },
     "execution_count": 10,
     "metadata": {},
     "output_type": "execute_result"
    }
   ],
   "source": [
    "np_array_a1, np_array_b1"
   ]
  },
  {
   "cell_type": "code",
   "execution_count": 11,
   "metadata": {
    "ExecuteTime": {
     "end_time": "2021-05-25T06:27:20.416890Z",
     "start_time": "2021-05-25T06:27:20.392906Z"
    }
   },
   "outputs": [
    {
     "name": "stdout",
     "output_type": "stream",
     "text": [
      "[6 8]\n",
      "[2 2]\n"
     ]
    }
   ],
   "source": [
    "print(np_array_a1[2:])\n",
    "print(np_array_b1[:2])"
   ]
  },
  {
   "cell_type": "code",
   "execution_count": 12,
   "metadata": {
    "ExecuteTime": {
     "end_time": "2021-05-25T06:28:14.612642Z",
     "start_time": "2021-05-25T06:28:14.588641Z"
    }
   },
   "outputs": [
    {
     "data": {
      "text/plain": [
       "array([[1, 2, 3],\n",
       "       [4, 5, 6]])"
      ]
     },
     "execution_count": 12,
     "metadata": {},
     "output_type": "execute_result"
    }
   ],
   "source": [
    "np_array_a2 = np.array([[1, 2, 3], [4, 5, 6]])\n",
    "np_array_a2"
   ]
  },
  {
   "cell_type": "code",
   "execution_count": 13,
   "metadata": {
    "ExecuteTime": {
     "end_time": "2021-05-25T06:28:20.846193Z",
     "start_time": "2021-05-25T06:28:20.806205Z"
    }
   },
   "outputs": [
    {
     "data": {
      "text/plain": [
       "array([[0.1, 0.2, 0.3],\n",
       "       [0.4, 0.5, 0.6]])"
      ]
     },
     "execution_count": 13,
     "metadata": {},
     "output_type": "execute_result"
    }
   ],
   "source": [
    "np_array_b2 = np.array([[.1, .2, .3], [.4, .5, .6]])\n",
    "np_array_b2"
   ]
  },
  {
   "cell_type": "code",
   "execution_count": 14,
   "metadata": {
    "ExecuteTime": {
     "end_time": "2021-05-25T06:28:36.376952Z",
     "start_time": "2021-05-25T06:28:36.336964Z"
    }
   },
   "outputs": [
    {
     "name": "stdout",
     "output_type": "stream",
     "text": [
      "(4,)\n",
      "(2, 3)\n",
      "(4,)\n",
      "(2, 3)\n",
      "[[10 20 30 40]] (1, 4)\n",
      "[[ 5]\n",
      " [10]\n",
      " [15]\n",
      " [20]] (4, 1)\n"
     ]
    }
   ],
   "source": [
    "print(np_array_a1.shape)\n",
    "print(np_array_a2.shape)\n",
    "print(np_array_b1.shape)\n",
    "print(np_array_b2.shape)\n",
    "\n",
    "np_array_a14 = np.array([[10, 20, 30, 40]])\n",
    "np_array_a41 = np.array([[5], [10], [15], [20]])\n",
    "print(np_array_a14, np_array_a14.shape)\n",
    "print(np_array_a41, np_array_a41.shape)"
   ]
  },
  {
   "cell_type": "code",
   "execution_count": 15,
   "metadata": {
    "ExecuteTime": {
     "end_time": "2021-05-25T06:28:51.421331Z",
     "start_time": "2021-05-25T06:28:51.397333Z"
    }
   },
   "outputs": [
    {
     "name": "stdout",
     "output_type": "stream",
     "text": [
      "[0. 0. 0. 0. 0.]\n",
      "[[0. 0. 0. 0.]\n",
      " [0. 0. 0. 0.]\n",
      " [0. 0. 0. 0.]]\n"
     ]
    }
   ],
   "source": [
    "np_array_zeros1 = np.zeros(5)\n",
    "np_array_zeros2 = np.zeros((3,4))\n",
    "\n",
    "print(np_array_zeros1)\n",
    "print(np_array_zeros2)"
   ]
  },
  {
   "cell_type": "code",
   "execution_count": 16,
   "metadata": {
    "ExecuteTime": {
     "end_time": "2021-05-25T06:28:59.515163Z",
     "start_time": "2021-05-25T06:28:59.491166Z"
    }
   },
   "outputs": [
    {
     "name": "stdout",
     "output_type": "stream",
     "text": [
      "[[0. 0. 0. ... 0. 0. 0.]\n",
      " [0. 0. 0. ... 0. 0. 0.]\n",
      " [0. 0. 0. ... 0. 0. 0.]\n",
      " ...\n",
      " [0. 0. 0. ... 0. 0. 0.]\n",
      " [0. 0. 0. ... 0. 0. 0.]\n",
      " [0. 0. 0. ... 0. 0. 0.]]\n",
      "(100, 100)\n"
     ]
    }
   ],
   "source": [
    "zeros = np.zeros((100, 100))\n",
    "print(zeros)\n",
    "print(zeros.shape)"
   ]
  },
  {
   "cell_type": "code",
   "execution_count": 17,
   "metadata": {
    "ExecuteTime": {
     "end_time": "2021-05-25T06:29:05.183533Z",
     "start_time": "2021-05-25T06:29:05.143544Z"
    }
   },
   "outputs": [
    {
     "name": "stdout",
     "output_type": "stream",
     "text": [
      "[1. 1. 1. 1. 1. 1. 1. 1. 1. 1.]\n",
      "[[1. 1. 1.]\n",
      " [1. 1. 1.]\n",
      " [1. 1. 1.]\n",
      " [1. 1. 1.]\n",
      " [1. 1. 1.]\n",
      " [1. 1. 1.]\n",
      " [1. 1. 1.]\n",
      " [1. 1. 1.]\n",
      " [1. 1. 1.]\n",
      " [1. 1. 1.]]\n"
     ]
    }
   ],
   "source": [
    "np_array_ones1 = np.ones(10)\n",
    "np_array_ones2 = np.ones((10, 3))\n",
    "\n",
    "print(np_array_ones1)\n",
    "print(np_array_ones2)"
   ]
  },
  {
   "cell_type": "code",
   "execution_count": 18,
   "metadata": {
    "ExecuteTime": {
     "end_time": "2021-05-25T06:29:12.178384Z",
     "start_time": "2021-05-25T06:29:12.162394Z"
    }
   },
   "outputs": [
    {
     "name": "stdout",
     "output_type": "stream",
     "text": [
      "1\n",
      "2\n"
     ]
    }
   ],
   "source": [
    "# return number of dimension of an array\n",
    "print(np_array_zeros1.ndim)\n",
    "print(np_array_zeros2.ndim)"
   ]
  },
  {
   "cell_type": "code",
   "execution_count": 19,
   "metadata": {
    "ExecuteTime": {
     "end_time": "2021-05-25T06:29:18.012102Z",
     "start_time": "2021-05-25T06:29:17.988106Z"
    }
   },
   "outputs": [
    {
     "name": "stdout",
     "output_type": "stream",
     "text": [
      "4\n",
      "30\n"
     ]
    }
   ],
   "source": [
    "# size adalah perkalian dari shape sebuah array (number of items)\n",
    "print(np_array_a14.size)\n",
    "print(np_array_ones2.size)"
   ]
  },
  {
   "cell_type": "code",
   "execution_count": 20,
   "metadata": {
    "ExecuteTime": {
     "end_time": "2021-05-25T06:29:22.846234Z",
     "start_time": "2021-05-25T06:29:22.806241Z"
    }
   },
   "outputs": [
    {
     "name": "stdout",
     "output_type": "stream",
     "text": [
      "[0 1 2 3 4 5 6 7 8 9]\n",
      "[ 0  2  4  6  8 10 12 14 16 18 20]\n",
      "[50 45 40 35 30 25 20 15 10  5]\n"
     ]
    }
   ],
   "source": [
    "# array range\n",
    "np_arange10 = np.arange(10)\n",
    "print(np_arange10)\n",
    "\n",
    "np_arange20 = np.arange(0, 22, 2)\n",
    "print(np_arange20)\n",
    "\n",
    "np_arange_desc = np.arange(50, 0, -5)\n",
    "print(np_arange_desc)"
   ]
  },
  {
   "cell_type": "code",
   "execution_count": 21,
   "metadata": {
    "ExecuteTime": {
     "end_time": "2021-05-25T06:42:51.017333Z",
     "start_time": "2021-05-25T06:42:50.993333Z"
    }
   },
   "outputs": [
    {
     "data": {
      "text/plain": [
       "array([ 0,  1,  2,  3,  4,  5,  6,  7,  8,  9,  0,  2,  4,  6,  8, 10, 12,\n",
       "       14, 16, 18, 20, 50, 45, 40, 35, 30, 25, 20, 15, 10,  5])"
      ]
     },
     "execution_count": 21,
     "metadata": {},
     "output_type": "execute_result"
    }
   ],
   "source": [
    "arr = np.append(np_arange10, np_arange20)\n",
    "np.append(arr, np_arange_desc)"
   ]
  },
  {
   "cell_type": "code",
   "execution_count": 22,
   "metadata": {
    "ExecuteTime": {
     "end_time": "2021-05-25T06:43:05.663516Z",
     "start_time": "2021-05-25T06:43:05.631517Z"
    }
   },
   "outputs": [
    {
     "data": {
      "text/plain": [
       "array([ 0,  1,  2,  3,  4,  5,  6,  7,  8,  9,  0,  2,  4,  6,  8, 10, 12,\n",
       "       14, 16, 18, 20, 50, 45, 40, 35, 30, 25, 20, 15, 10,  5])"
      ]
     },
     "execution_count": 22,
     "metadata": {},
     "output_type": "execute_result"
    }
   ],
   "source": [
    "np.append((np.append(np_arange10, np_arange20)), np_arange_desc)"
   ]
  },
  {
   "cell_type": "code",
   "execution_count": 23,
   "metadata": {
    "ExecuteTime": {
     "end_time": "2021-05-25T06:43:18.375913Z",
     "start_time": "2021-05-25T06:43:18.343910Z"
    }
   },
   "outputs": [
    {
     "data": {
      "text/plain": [
       "array([1. , 2. , 3. , 4. , 5. , 6. , 0.1, 0.2, 0.3, 0.4, 0.5, 0.6])"
      ]
     },
     "execution_count": 23,
     "metadata": {},
     "output_type": "execute_result"
    }
   ],
   "source": [
    "np.append(np_array_a2, np_array_b2) #kalau berbeda akan di flatten"
   ]
  },
  {
   "cell_type": "code",
   "execution_count": 24,
   "metadata": {
    "ExecuteTime": {
     "end_time": "2021-05-25T06:43:30.365832Z",
     "start_time": "2021-05-25T06:43:30.341843Z"
    }
   },
   "outputs": [
    {
     "data": {
      "text/plain": [
       "array([[1. , 2. , 3. ],\n",
       "       [4. , 5. , 6. ],\n",
       "       [0.1, 0.2, 0.3],\n",
       "       [0.4, 0.5, 0.6]])"
      ]
     },
     "execution_count": 24,
     "metadata": {},
     "output_type": "execute_result"
    }
   ],
   "source": [
    "np.append(np_array_a2, np_array_b2, axis=0)"
   ]
  },
  {
   "cell_type": "code",
   "execution_count": 25,
   "metadata": {
    "ExecuteTime": {
     "end_time": "2021-05-25T06:43:39.898516Z",
     "start_time": "2021-05-25T06:43:39.874519Z"
    }
   },
   "outputs": [
    {
     "data": {
      "text/plain": [
       "array([[1. , 2. , 3. , 0.1, 0.2, 0.3],\n",
       "       [4. , 5. , 6. , 0.4, 0.5, 0.6]])"
      ]
     },
     "execution_count": 25,
     "metadata": {},
     "output_type": "execute_result"
    }
   ],
   "source": [
    "np.append(np_array_a2, np_array_b2, axis=1)"
   ]
  },
  {
   "cell_type": "code",
   "execution_count": 26,
   "metadata": {
    "ExecuteTime": {
     "end_time": "2021-05-25T06:44:32.634009Z",
     "start_time": "2021-05-25T06:44:32.594012Z"
    }
   },
   "outputs": [
    {
     "data": {
      "text/plain": [
       "array([[1. , 2. , 3. , 0.1, 0.2, 0.3],\n",
       "       [4. , 5. , 6. , 0.4, 0.5, 0.6]])"
      ]
     },
     "execution_count": 26,
     "metadata": {},
     "output_type": "execute_result"
    }
   ],
   "source": [
    "np.append(np_array_a2, np_array_b2, axis=1)"
   ]
  },
  {
   "cell_type": "code",
   "execution_count": 27,
   "metadata": {
    "ExecuteTime": {
     "end_time": "2021-05-25T06:45:31.014225Z",
     "start_time": "2021-05-25T06:45:30.982231Z"
    },
    "scrolled": true
   },
   "outputs": [
    {
     "data": {
      "text/plain": [
       "array([1., 2., 3., 4., 5., 6., 0., 0., 0., 0., 0., 0., 0., 0., 0., 0., 0.,\n",
       "       0.])"
      ]
     },
     "execution_count": 27,
     "metadata": {},
     "output_type": "execute_result"
    }
   ],
   "source": [
    "np.append(np_array_a2, np_array_zeros2)"
   ]
  },
  {
   "cell_type": "code",
   "execution_count": 28,
   "metadata": {
    "ExecuteTime": {
     "end_time": "2021-05-25T06:45:43.284684Z",
     "start_time": "2021-05-25T06:45:43.180695Z"
    },
    "scrolled": true
   },
   "outputs": [
    {
     "ename": "ValueError",
     "evalue": "all the input array dimensions for the concatenation axis must match exactly, but along dimension 1, the array at index 0 has size 3 and the array at index 1 has size 4",
     "output_type": "error",
     "traceback": [
      "\u001b[1;31m---------------------------------------------------------------------------\u001b[0m",
      "\u001b[1;31mValueError\u001b[0m                                Traceback (most recent call last)",
      "\u001b[1;32m<ipython-input-28-5478ed10e2c9>\u001b[0m in \u001b[0;36m<module>\u001b[1;34m\u001b[0m\n\u001b[1;32m----> 1\u001b[1;33m \u001b[0mnp\u001b[0m\u001b[1;33m.\u001b[0m\u001b[0mappend\u001b[0m\u001b[1;33m(\u001b[0m\u001b[0mnp_array_a2\u001b[0m\u001b[1;33m,\u001b[0m \u001b[0mnp_array_zeros2\u001b[0m\u001b[1;33m,\u001b[0m \u001b[0maxis\u001b[0m\u001b[1;33m=\u001b[0m\u001b[1;36m0\u001b[0m\u001b[1;33m)\u001b[0m\u001b[1;33m\u001b[0m\u001b[1;33m\u001b[0m\u001b[0m\n\u001b[0m",
      "\u001b[1;32m<__array_function__ internals>\u001b[0m in \u001b[0;36mappend\u001b[1;34m(*args, **kwargs)\u001b[0m\n",
      "\u001b[1;32m~\\anaconda3\\lib\\site-packages\\numpy\\lib\\function_base.py\u001b[0m in \u001b[0;36mappend\u001b[1;34m(arr, values, axis)\u001b[0m\n\u001b[0;32m   4691\u001b[0m         \u001b[0mvalues\u001b[0m \u001b[1;33m=\u001b[0m \u001b[0mravel\u001b[0m\u001b[1;33m(\u001b[0m\u001b[0mvalues\u001b[0m\u001b[1;33m)\u001b[0m\u001b[1;33m\u001b[0m\u001b[1;33m\u001b[0m\u001b[0m\n\u001b[0;32m   4692\u001b[0m         \u001b[0maxis\u001b[0m \u001b[1;33m=\u001b[0m \u001b[0marr\u001b[0m\u001b[1;33m.\u001b[0m\u001b[0mndim\u001b[0m\u001b[1;33m-\u001b[0m\u001b[1;36m1\u001b[0m\u001b[1;33m\u001b[0m\u001b[1;33m\u001b[0m\u001b[0m\n\u001b[1;32m-> 4693\u001b[1;33m     \u001b[1;32mreturn\u001b[0m \u001b[0mconcatenate\u001b[0m\u001b[1;33m(\u001b[0m\u001b[1;33m(\u001b[0m\u001b[0marr\u001b[0m\u001b[1;33m,\u001b[0m \u001b[0mvalues\u001b[0m\u001b[1;33m)\u001b[0m\u001b[1;33m,\u001b[0m \u001b[0maxis\u001b[0m\u001b[1;33m=\u001b[0m\u001b[0maxis\u001b[0m\u001b[1;33m)\u001b[0m\u001b[1;33m\u001b[0m\u001b[1;33m\u001b[0m\u001b[0m\n\u001b[0m\u001b[0;32m   4694\u001b[0m \u001b[1;33m\u001b[0m\u001b[0m\n\u001b[0;32m   4695\u001b[0m \u001b[1;33m\u001b[0m\u001b[0m\n",
      "\u001b[1;32m<__array_function__ internals>\u001b[0m in \u001b[0;36mconcatenate\u001b[1;34m(*args, **kwargs)\u001b[0m\n",
      "\u001b[1;31mValueError\u001b[0m: all the input array dimensions for the concatenation axis must match exactly, but along dimension 1, the array at index 0 has size 3 and the array at index 1 has size 4"
     ]
    }
   ],
   "source": [
    "np.append(np_array_a2, np_array_zeros2, axis=0)"
   ]
  },
  {
   "cell_type": "code",
   "execution_count": 29,
   "metadata": {
    "ExecuteTime": {
     "end_time": "2021-05-25T06:45:56.745950Z",
     "start_time": "2021-05-25T06:45:56.641941Z"
    },
    "scrolled": true
   },
   "outputs": [
    {
     "ename": "ValueError",
     "evalue": "all the input array dimensions for the concatenation axis must match exactly, but along dimension 0, the array at index 0 has size 2 and the array at index 1 has size 3",
     "output_type": "error",
     "traceback": [
      "\u001b[1;31m---------------------------------------------------------------------------\u001b[0m",
      "\u001b[1;31mValueError\u001b[0m                                Traceback (most recent call last)",
      "\u001b[1;32m<ipython-input-29-6aee014915e6>\u001b[0m in \u001b[0;36m<module>\u001b[1;34m\u001b[0m\n\u001b[1;32m----> 1\u001b[1;33m \u001b[0mnp\u001b[0m\u001b[1;33m.\u001b[0m\u001b[0mappend\u001b[0m\u001b[1;33m(\u001b[0m\u001b[0mnp_array_a2\u001b[0m\u001b[1;33m,\u001b[0m \u001b[0mnp_array_zeros2\u001b[0m\u001b[1;33m,\u001b[0m \u001b[0maxis\u001b[0m\u001b[1;33m=\u001b[0m\u001b[1;36m1\u001b[0m\u001b[1;33m)\u001b[0m\u001b[1;33m\u001b[0m\u001b[1;33m\u001b[0m\u001b[0m\n\u001b[0m",
      "\u001b[1;32m<__array_function__ internals>\u001b[0m in \u001b[0;36mappend\u001b[1;34m(*args, **kwargs)\u001b[0m\n",
      "\u001b[1;32m~\\anaconda3\\lib\\site-packages\\numpy\\lib\\function_base.py\u001b[0m in \u001b[0;36mappend\u001b[1;34m(arr, values, axis)\u001b[0m\n\u001b[0;32m   4691\u001b[0m         \u001b[0mvalues\u001b[0m \u001b[1;33m=\u001b[0m \u001b[0mravel\u001b[0m\u001b[1;33m(\u001b[0m\u001b[0mvalues\u001b[0m\u001b[1;33m)\u001b[0m\u001b[1;33m\u001b[0m\u001b[1;33m\u001b[0m\u001b[0m\n\u001b[0;32m   4692\u001b[0m         \u001b[0maxis\u001b[0m \u001b[1;33m=\u001b[0m \u001b[0marr\u001b[0m\u001b[1;33m.\u001b[0m\u001b[0mndim\u001b[0m\u001b[1;33m-\u001b[0m\u001b[1;36m1\u001b[0m\u001b[1;33m\u001b[0m\u001b[1;33m\u001b[0m\u001b[0m\n\u001b[1;32m-> 4693\u001b[1;33m     \u001b[1;32mreturn\u001b[0m \u001b[0mconcatenate\u001b[0m\u001b[1;33m(\u001b[0m\u001b[1;33m(\u001b[0m\u001b[0marr\u001b[0m\u001b[1;33m,\u001b[0m \u001b[0mvalues\u001b[0m\u001b[1;33m)\u001b[0m\u001b[1;33m,\u001b[0m \u001b[0maxis\u001b[0m\u001b[1;33m=\u001b[0m\u001b[0maxis\u001b[0m\u001b[1;33m)\u001b[0m\u001b[1;33m\u001b[0m\u001b[1;33m\u001b[0m\u001b[0m\n\u001b[0m\u001b[0;32m   4694\u001b[0m \u001b[1;33m\u001b[0m\u001b[0m\n\u001b[0;32m   4695\u001b[0m \u001b[1;33m\u001b[0m\u001b[0m\n",
      "\u001b[1;32m<__array_function__ internals>\u001b[0m in \u001b[0;36mconcatenate\u001b[1;34m(*args, **kwargs)\u001b[0m\n",
      "\u001b[1;31mValueError\u001b[0m: all the input array dimensions for the concatenation axis must match exactly, but along dimension 0, the array at index 0 has size 2 and the array at index 1 has size 3"
     ]
    }
   ],
   "source": [
    "np.append(np_array_a2, np_array_zeros2, axis=1)"
   ]
  },
  {
   "cell_type": "code",
   "execution_count": 30,
   "metadata": {
    "ExecuteTime": {
     "end_time": "2021-05-25T06:46:48.953521Z",
     "start_time": "2021-05-25T06:46:48.929544Z"
    }
   },
   "outputs": [
    {
     "data": {
      "text/plain": [
       "array([50, 45, 40, 35, 30, 25, 20, 15, 10,  5])"
      ]
     },
     "execution_count": 30,
     "metadata": {},
     "output_type": "execute_result"
    }
   ],
   "source": [
    "np_arange_desc"
   ]
  },
  {
   "cell_type": "code",
   "execution_count": 31,
   "metadata": {
    "ExecuteTime": {
     "end_time": "2021-05-25T06:46:52.736655Z",
     "start_time": "2021-05-25T06:46:52.712669Z"
    }
   },
   "outputs": [
    {
     "data": {
      "text/plain": [
       "array([ 5, 10, 15, 20, 25, 30, 35, 40, 45, 50])"
      ]
     },
     "execution_count": 31,
     "metadata": {},
     "output_type": "execute_result"
    }
   ],
   "source": [
    "np.sort(np_arange_desc)"
   ]
  },
  {
   "cell_type": "code",
   "execution_count": 32,
   "metadata": {
    "ExecuteTime": {
     "end_time": "2021-05-25T06:47:00.065742Z",
     "start_time": "2021-05-25T06:47:00.041746Z"
    }
   },
   "outputs": [
    {
     "name": "stdout",
     "output_type": "stream",
     "text": [
      "[[1.  2.  3. ]\n",
      " [4.  5.  6. ]\n",
      " [0.1 0.2 0.3]\n",
      " [0.4 0.5 0.6]]\n"
     ]
    }
   ],
   "source": [
    "np_array_a2b2 = np.append(np_array_a2, np_array_b2, axis=0)\n",
    "print(np_array_a2b2)"
   ]
  },
  {
   "cell_type": "code",
   "execution_count": 33,
   "metadata": {
    "ExecuteTime": {
     "end_time": "2021-05-25T06:47:47.752651Z",
     "start_time": "2021-05-25T06:47:47.712669Z"
    }
   },
   "outputs": [
    {
     "data": {
      "text/plain": [
       "array([[0.1, 0.2, 0.3],\n",
       "       [0.4, 0.5, 0.6],\n",
       "       [1. , 2. , 3. ],\n",
       "       [4. , 5. , 6. ]])"
      ]
     },
     "execution_count": 33,
     "metadata": {},
     "output_type": "execute_result"
    }
   ],
   "source": [
    "np.sort(np_array_a2b2, axis=0)"
   ]
  },
  {
   "cell_type": "code",
   "execution_count": 34,
   "metadata": {
    "ExecuteTime": {
     "end_time": "2021-05-25T06:48:18.012298Z",
     "start_time": "2021-05-25T06:48:17.964294Z"
    }
   },
   "outputs": [
    {
     "name": "stdout",
     "output_type": "stream",
     "text": [
      "[[[  9   3   1   5]\n",
      "  [  1   3   2   3]\n",
      "  [  4  10   3   2]]\n",
      "\n",
      " [[ 19   3   1  50]\n",
      "  [ 13   1  21  13]\n",
      "  [  4  10   0   2]]\n",
      "\n",
      " [[100   2   3   3]\n",
      "  [  9   3   4   3]\n",
      "  [  1   1   2   0]]]\n",
      "shape: (3, 3, 4)\n",
      "ndim: 3\n",
      "size: 36\n"
     ]
    }
   ],
   "source": [
    "np_array_a3 = np.array(\n",
    "    [\n",
    "        [\n",
    "            [9, 3, 1, 5],\n",
    "            [1, 3, 2, 3],\n",
    "            [4, 10, 3, 2],\n",
    "        ],\n",
    "        [\n",
    "            [19, 3, 1, 50],\n",
    "            [13, 1, 21, 13],\n",
    "            [4, 10, 0, 2],\n",
    "        ],\n",
    "        [\n",
    "            [100, 2, 3, 3],\n",
    "            [9, 3, 4, 3],\n",
    "            [1, 1, 2, 0]\n",
    "        ]\n",
    "    ]\n",
    ")\n",
    "print(np_array_a3)\n",
    "print(\"shape:\", np_array_a3.shape)\n",
    "print(\"ndim:\", np_array_a3.ndim)\n",
    "print(\"size:\", np_array_a3.size)"
   ]
  },
  {
   "cell_type": "code",
   "execution_count": 35,
   "metadata": {
    "ExecuteTime": {
     "end_time": "2021-05-25T06:48:31.566846Z",
     "start_time": "2021-05-25T06:48:31.534851Z"
    }
   },
   "outputs": [
    {
     "data": {
      "text/plain": [
       "numpy.ndarray"
      ]
     },
     "execution_count": 35,
     "metadata": {},
     "output_type": "execute_result"
    }
   ],
   "source": [
    "type(np_array_a3)"
   ]
  },
  {
   "cell_type": "code",
   "execution_count": 36,
   "metadata": {
    "ExecuteTime": {
     "end_time": "2021-05-25T06:48:38.640395Z",
     "start_time": "2021-05-25T06:48:38.616401Z"
    }
   },
   "outputs": [
    {
     "data": {
      "text/plain": [
       "array([[  9,   3,   1,   5,   1,   3],\n",
       "       [  2,   3,   4,  10,   3,   2],\n",
       "       [ 19,   3,   1,  50,  13,   1],\n",
       "       [ 21,  13,   4,  10,   0,   2],\n",
       "       [100,   2,   3,   3,   9,   3],\n",
       "       [  4,   3,   1,   1,   2,   0]])"
      ]
     },
     "execution_count": 36,
     "metadata": {},
     "output_type": "execute_result"
    }
   ],
   "source": [
    "np.reshape(np_array_a3, (6, 6))"
   ]
  },
  {
   "cell_type": "code",
   "execution_count": 37,
   "metadata": {
    "ExecuteTime": {
     "end_time": "2021-05-25T06:49:24.982100Z",
     "start_time": "2021-05-25T06:49:24.958108Z"
    }
   },
   "outputs": [
    {
     "data": {
      "text/plain": [
       "array([[  9,   3,   1,   5,   1,   3],\n",
       "       [  2,   3,   4,  10,   3,   2],\n",
       "       [ 19,   3,   1,  50,  13,   1],\n",
       "       [ 21,  13,   4,  10,   0,   2],\n",
       "       [100,   2,   3,   3,   9,   3],\n",
       "       [  4,   3,   1,   1,   2,   0]])"
      ]
     },
     "execution_count": 37,
     "metadata": {},
     "output_type": "execute_result"
    }
   ],
   "source": [
    "np_array_a3.reshape(6, 6)"
   ]
  },
  {
   "cell_type": "code",
   "execution_count": 38,
   "metadata": {
    "ExecuteTime": {
     "end_time": "2021-05-25T06:49:29.319378Z",
     "start_time": "2021-05-25T06:49:29.263365Z"
    }
   },
   "outputs": [
    {
     "ename": "ValueError",
     "evalue": "cannot reshape array of size 36 into shape (4,4)",
     "output_type": "error",
     "traceback": [
      "\u001b[1;31m---------------------------------------------------------------------------\u001b[0m",
      "\u001b[1;31mValueError\u001b[0m                                Traceback (most recent call last)",
      "\u001b[1;32m<ipython-input-38-1dc9003aabd0>\u001b[0m in \u001b[0;36m<module>\u001b[1;34m\u001b[0m\n\u001b[1;32m----> 1\u001b[1;33m \u001b[0mnp_array_a3\u001b[0m\u001b[1;33m.\u001b[0m\u001b[0mreshape\u001b[0m\u001b[1;33m(\u001b[0m\u001b[1;33m(\u001b[0m\u001b[1;36m4\u001b[0m\u001b[1;33m,\u001b[0m \u001b[1;36m4\u001b[0m\u001b[1;33m)\u001b[0m\u001b[1;33m)\u001b[0m\u001b[1;33m\u001b[0m\u001b[1;33m\u001b[0m\u001b[0m\n\u001b[0m",
      "\u001b[1;31mValueError\u001b[0m: cannot reshape array of size 36 into shape (4,4)"
     ]
    }
   ],
   "source": [
    "np_array_a3.reshape((4, 4))"
   ]
  },
  {
   "cell_type": "code",
   "execution_count": 39,
   "metadata": {
    "ExecuteTime": {
     "end_time": "2021-05-25T06:49:34.903785Z",
     "start_time": "2021-05-25T06:49:34.855791Z"
    },
    "scrolled": true
   },
   "outputs": [
    {
     "ename": "ValueError",
     "evalue": "cannot reshape array of size 36 into shape (4,10)",
     "output_type": "error",
     "traceback": [
      "\u001b[1;31m---------------------------------------------------------------------------\u001b[0m",
      "\u001b[1;31mValueError\u001b[0m                                Traceback (most recent call last)",
      "\u001b[1;32m<ipython-input-39-bad9cef87d77>\u001b[0m in \u001b[0;36m<module>\u001b[1;34m\u001b[0m\n\u001b[1;32m----> 1\u001b[1;33m \u001b[0mnp_array_a3\u001b[0m\u001b[1;33m.\u001b[0m\u001b[0mreshape\u001b[0m\u001b[1;33m(\u001b[0m\u001b[1;33m(\u001b[0m\u001b[1;36m4\u001b[0m\u001b[1;33m,\u001b[0m \u001b[1;36m10\u001b[0m\u001b[1;33m)\u001b[0m\u001b[1;33m)\u001b[0m\u001b[1;33m\u001b[0m\u001b[1;33m\u001b[0m\u001b[0m\n\u001b[0m",
      "\u001b[1;31mValueError\u001b[0m: cannot reshape array of size 36 into shape (4,10)"
     ]
    }
   ],
   "source": [
    "np_array_a3.reshape((4, 10))"
   ]
  },
  {
   "cell_type": "code",
   "execution_count": 40,
   "metadata": {
    "ExecuteTime": {
     "end_time": "2021-05-25T06:49:50.859936Z",
     "start_time": "2021-05-25T06:49:50.827938Z"
    }
   },
   "outputs": [
    {
     "data": {
      "text/plain": [
       "array([[[[  9,   3],\n",
       "         [  1,   5]],\n",
       "\n",
       "        [[  1,   3],\n",
       "         [  2,   3]],\n",
       "\n",
       "        [[  4,  10],\n",
       "         [  3,   2]]],\n",
       "\n",
       "\n",
       "       [[[ 19,   3],\n",
       "         [  1,  50]],\n",
       "\n",
       "        [[ 13,   1],\n",
       "         [ 21,  13]],\n",
       "\n",
       "        [[  4,  10],\n",
       "         [  0,   2]]],\n",
       "\n",
       "\n",
       "       [[[100,   2],\n",
       "         [  3,   3]],\n",
       "\n",
       "        [[  9,   3],\n",
       "         [  4,   3]],\n",
       "\n",
       "        [[  1,   1],\n",
       "         [  2,   0]]]])"
      ]
     },
     "execution_count": 40,
     "metadata": {},
     "output_type": "execute_result"
    }
   ],
   "source": [
    "np_array_a3.reshape((3, 3, 2, 2))"
   ]
  },
  {
   "cell_type": "code",
   "execution_count": 41,
   "metadata": {
    "ExecuteTime": {
     "end_time": "2021-05-25T06:52:18.255282Z",
     "start_time": "2021-05-25T06:52:18.234294Z"
    }
   },
   "outputs": [
    {
     "data": {
      "text/plain": [
       "array([[2],\n",
       "       [4],\n",
       "       [6],\n",
       "       [8]])"
      ]
     },
     "execution_count": 41,
     "metadata": {},
     "output_type": "execute_result"
    }
   ],
   "source": [
    "np_array_a1[:, np.newaxis]"
   ]
  },
  {
   "cell_type": "code",
   "execution_count": 42,
   "metadata": {
    "ExecuteTime": {
     "end_time": "2021-05-25T06:52:29.039049Z",
     "start_time": "2021-05-25T06:52:29.018060Z"
    }
   },
   "outputs": [
    {
     "data": {
      "text/plain": [
       "array([[2, 4, 6, 8]])"
      ]
     },
     "execution_count": 42,
     "metadata": {},
     "output_type": "execute_result"
    }
   ],
   "source": [
    "np.expand_dims(np_array_a1, axis=0)"
   ]
  },
  {
   "cell_type": "code",
   "execution_count": 43,
   "metadata": {
    "ExecuteTime": {
     "end_time": "2021-05-25T06:52:34.183155Z",
     "start_time": "2021-05-25T06:52:34.154172Z"
    }
   },
   "outputs": [
    {
     "data": {
      "text/plain": [
       "array([[[[2]],\n",
       "\n",
       "        [[4]],\n",
       "\n",
       "        [[6]],\n",
       "\n",
       "        [[8]]]])"
      ]
     },
     "execution_count": 43,
     "metadata": {},
     "output_type": "execute_result"
    }
   ],
   "source": [
    "np_array_a1[None, :, None, None]"
   ]
  },
  {
   "cell_type": "code",
   "execution_count": 44,
   "metadata": {
    "ExecuteTime": {
     "end_time": "2021-05-25T06:52:53.678261Z",
     "start_time": "2021-05-25T06:52:53.643284Z"
    },
    "scrolled": true
   },
   "outputs": [
    {
     "data": {
      "text/plain": [
       "array([[[[2]],\n",
       "\n",
       "        [[4]],\n",
       "\n",
       "        [[6]],\n",
       "\n",
       "        [[8]]]])"
      ]
     },
     "execution_count": 44,
     "metadata": {},
     "output_type": "execute_result"
    }
   ],
   "source": [
    "np_array_a1[np.newaxis, :, np.newaxis, np.newaxis]"
   ]
  },
  {
   "cell_type": "code",
   "execution_count": 45,
   "metadata": {
    "ExecuteTime": {
     "end_time": "2021-05-25T06:53:09.015092Z",
     "start_time": "2021-05-25T06:53:08.978113Z"
    },
    "scrolled": true
   },
   "outputs": [
    {
     "name": "stdout",
     "output_type": "stream",
     "text": [
      "[[0. 0. 0. 0. 0.]]\n",
      "[[0.]\n",
      " [0.]\n",
      " [0.]\n",
      " [0.]\n",
      " [0.]]\n",
      "[[[0.]\n",
      "  [0.]\n",
      "  [0.]\n",
      "  [0.]\n",
      "  [0.]]]\n"
     ]
    }
   ],
   "source": [
    "print(np_array_zeros1.reshape((1, 5)))\n",
    "print(np_array_zeros1.reshape((5, 1)))\n",
    "print(np_array_zeros1.reshape((1, 5, 1)))"
   ]
  },
  {
   "cell_type": "code",
   "execution_count": 46,
   "metadata": {
    "ExecuteTime": {
     "end_time": "2021-05-25T06:53:30.763218Z",
     "start_time": "2021-05-25T06:53:30.736257Z"
    }
   },
   "outputs": [
    {
     "data": {
      "text/plain": [
       "array([[1., 2., 3., 4., 5.],\n",
       "       [6., 0., 0., 0., 0.]])"
      ]
     },
     "execution_count": 46,
     "metadata": {},
     "output_type": "execute_result"
    }
   ],
   "source": [
    "size = np_array_a2.size\n",
    "new_size = 10\n",
    "np.append(np_array_a2, np.zeros(new_size - size)).reshape((2, 5))"
   ]
  },
  {
   "cell_type": "code",
   "execution_count": 50,
   "metadata": {
    "ExecuteTime": {
     "end_time": "2021-05-25T06:55:38.649389Z",
     "start_time": "2021-05-25T06:55:38.626400Z"
    }
   },
   "outputs": [
    {
     "name": "stdout",
     "output_type": "stream",
     "text": [
      "[0.  0.2 0.4 0.6 0.8 1.  1.2 1.4 1.6 1.8 2. ] (11,) 11\n"
     ]
    }
   ],
   "source": [
    "np_array_c1 = np.arange(0, 2.2, .2)\n",
    "print(np_array_c1, np_array_c1.shape, np_array_c1.size)"
   ]
  },
  {
   "cell_type": "code",
   "execution_count": 51,
   "metadata": {
    "ExecuteTime": {
     "end_time": "2021-05-25T06:55:40.284929Z",
     "start_time": "2021-05-25T06:55:40.264940Z"
    }
   },
   "outputs": [
    {
     "name": "stdout",
     "output_type": "stream",
     "text": [
      "number of item: 11\n",
      "median: 1.0\n"
     ]
    }
   ],
   "source": [
    "# ambil median \n",
    "# median -> nilai tengah -> n=9, nilai tengah index ke= 4\n",
    "# cari tahu n -> len()\n",
    "# n // 2\n",
    "n = np_array_c1.shape[0]\n",
    "print(\"number of item:\", n)\n",
    "\n",
    "med = np_array_c1[n // 2]\n",
    "print(\"median:\", med)"
   ]
  },
  {
   "cell_type": "code",
   "execution_count": 52,
   "metadata": {
    "ExecuteTime": {
     "end_time": "2021-05-25T06:58:28.400938Z",
     "start_time": "2021-05-25T06:58:28.381950Z"
    }
   },
   "outputs": [
    {
     "name": "stdout",
     "output_type": "stream",
     "text": [
      "[[0.1, 0.2, 0.3], [0.4, 0.5, 0.6]] <class 'list'>\n"
     ]
    }
   ],
   "source": [
    "list_array_b2 = np_array_b2.tolist()\n",
    "print(list_array_b2, type(list_array_b2))"
   ]
  },
  {
   "cell_type": "code",
   "execution_count": 53,
   "metadata": {
    "ExecuteTime": {
     "end_time": "2021-05-25T06:58:40.563963Z",
     "start_time": "2021-05-25T06:58:40.543982Z"
    }
   },
   "outputs": [
    {
     "data": {
      "text/plain": [
       "([0.1, 0.2], [0.4, 0.5])"
      ]
     },
     "execution_count": 53,
     "metadata": {},
     "output_type": "execute_result"
    }
   ],
   "source": [
    "list_array_b2[0][:2], list_array_b2[1][:2]"
   ]
  },
  {
   "cell_type": "code",
   "execution_count": 54,
   "metadata": {
    "ExecuteTime": {
     "end_time": "2021-05-25T06:58:58.604782Z",
     "start_time": "2021-05-25T06:58:58.568825Z"
    }
   },
   "outputs": [
    {
     "data": {
      "text/plain": [
       "array([[0.1, 0.3],\n",
       "       [0.4, 0.6]])"
      ]
     },
     "execution_count": 54,
     "metadata": {},
     "output_type": "execute_result"
    }
   ],
   "source": [
    "np_array_b2[:, 0::2]"
   ]
  },
  {
   "cell_type": "code",
   "execution_count": 55,
   "metadata": {
    "ExecuteTime": {
     "end_time": "2021-05-25T06:59:24.005595Z",
     "start_time": "2021-05-25T06:59:23.972617Z"
    }
   },
   "outputs": [
    {
     "data": {
      "text/plain": [
       "array([0.1, 0.4])"
      ]
     },
     "execution_count": 55,
     "metadata": {},
     "output_type": "execute_result"
    }
   ],
   "source": [
    "np_array_b2[:, 0]"
   ]
  },
  {
   "cell_type": "code",
   "execution_count": 56,
   "metadata": {
    "ExecuteTime": {
     "end_time": "2021-05-25T06:59:26.002437Z",
     "start_time": "2021-05-25T06:59:25.977473Z"
    },
    "scrolled": true
   },
   "outputs": [
    {
     "data": {
      "text/plain": [
       "array([[0.1, 0.3],\n",
       "       [0.4, 0.6]])"
      ]
     },
     "execution_count": 56,
     "metadata": {},
     "output_type": "execute_result"
    }
   ],
   "source": [
    "np_array_b2[:, [0,2]]"
   ]
  },
  {
   "cell_type": "code",
   "execution_count": 57,
   "metadata": {
    "ExecuteTime": {
     "end_time": "2021-05-25T06:59:38.613375Z",
     "start_time": "2021-05-25T06:59:38.584393Z"
    },
    "scrolled": false
   },
   "outputs": [
    {
     "data": {
      "text/plain": [
       "(array([0.1, 0.2, 0.3]),\n",
       " array([0.1, 0.2, 0.3]),\n",
       " array([0.1, 0.2, 0.3]),\n",
       " array([0.1, 0.2, 0.3]))"
      ]
     },
     "execution_count": 57,
     "metadata": {},
     "output_type": "execute_result"
    }
   ],
   "source": [
    "np_array_b2[0], np_array_b2[0,], np_array_b2[0, :], np_array_b2[0, [0, 1, 2]]"
   ]
  },
  {
   "cell_type": "code",
   "execution_count": 58,
   "metadata": {
    "ExecuteTime": {
     "end_time": "2021-05-25T06:59:55.199931Z",
     "start_time": "2021-05-25T06:59:55.171954Z"
    }
   },
   "outputs": [
    {
     "data": {
      "text/plain": [
       "(array([[0.1, 0.3],\n",
       "        [0.4, 0.6]]),\n",
       " array([[0.1, 0.3],\n",
       "        [0.4, 0.6]]))"
      ]
     },
     "execution_count": 58,
     "metadata": {},
     "output_type": "execute_result"
    }
   ],
   "source": [
    "# [[0.1, 0.3]\n",
    "#  [0.4, 0.6]]\n",
    "np_array_b2[:, [0, 2]], np_array_b2[:, ::2]"
   ]
  },
  {
   "cell_type": "code",
   "execution_count": 59,
   "metadata": {
    "ExecuteTime": {
     "end_time": "2021-05-25T07:00:07.463974Z",
     "start_time": "2021-05-25T07:00:07.424020Z"
    }
   },
   "outputs": [
    {
     "data": {
      "text/plain": [
       "array([[0.1, 0.4],\n",
       "       [0.3, 0.6]])"
      ]
     },
     "execution_count": 59,
     "metadata": {},
     "output_type": "execute_result"
    }
   ],
   "source": [
    "a = np_array_b2[:, 0]\n",
    "b = np_array_b2[:, 2]\n",
    "np.array([a, b])"
   ]
  },
  {
   "cell_type": "code",
   "execution_count": 60,
   "metadata": {
    "ExecuteTime": {
     "end_time": "2021-05-25T07:00:16.030036Z",
     "start_time": "2021-05-25T07:00:16.005052Z"
    }
   },
   "outputs": [
    {
     "name": "stdout",
     "output_type": "stream",
     "text": [
      "[[  9   3   1   5   1   3   2   3   4  10   3   2]\n",
      " [ 19   3   1  50  13   1  21  13   4  10   0   2]\n",
      " [100   2   3   3   9   3   4   3   1   1   2   0]]\n"
     ]
    }
   ],
   "source": [
    "np_array_c2 = np_array_a3.reshape((3, 12))\n",
    "print(np_array_c2)"
   ]
  },
  {
   "cell_type": "code",
   "execution_count": 61,
   "metadata": {
    "ExecuteTime": {
     "end_time": "2021-05-25T07:00:27.353696Z",
     "start_time": "2021-05-25T07:00:27.318722Z"
    }
   },
   "outputs": [
    {
     "data": {
      "text/plain": [
       "array([[  9,   1,   1,   2,   4,   3],\n",
       "       [ 19,   1,  13,  21,   4,   0],\n",
       "       [100,   3,   9,   4,   1,   2]])"
      ]
     },
     "execution_count": 61,
     "metadata": {},
     "output_type": "execute_result"
    }
   ],
   "source": [
    "np_array_c2[:, ::2]"
   ]
  },
  {
   "cell_type": "code",
   "execution_count": 62,
   "metadata": {
    "ExecuteTime": {
     "end_time": "2021-05-25T07:00:33.924980Z",
     "start_time": "2021-05-25T07:00:33.897003Z"
    }
   },
   "outputs": [
    {
     "data": {
      "text/plain": [
       "array([ 9,  3,  3,  3,  3,  3, 21,  0,  3,  3,  9,  3,  3,  0])"
      ]
     },
     "execution_count": 62,
     "metadata": {},
     "output_type": "execute_result"
    }
   ],
   "source": [
    "np_array_c2[np_array_c2 % 3 == 0]"
   ]
  },
  {
   "cell_type": "code",
   "execution_count": 63,
   "metadata": {
    "ExecuteTime": {
     "end_time": "2021-05-25T07:00:45.683853Z",
     "start_time": "2021-05-25T07:00:45.659869Z"
    }
   },
   "outputs": [
    {
     "data": {
      "text/plain": [
       "(array([2, 4, 6, 8]), array([2, 6, 8]), array([2, 6, 8]))"
      ]
     },
     "execution_count": 63,
     "metadata": {},
     "output_type": "execute_result"
    }
   ],
   "source": [
    "np_array_a1, np_array_a1[[True, False, True, True]], np_array_a1[[0, 2, 3]]"
   ]
  },
  {
   "cell_type": "code",
   "execution_count": 64,
   "metadata": {
    "ExecuteTime": {
     "end_time": "2021-05-25T07:00:52.133955Z",
     "start_time": "2021-05-25T07:00:52.099967Z"
    }
   },
   "outputs": [
    {
     "data": {
      "text/plain": [
       "array([[ True,  True, False, False, False,  True, False,  True, False,\n",
       "        False,  True, False],\n",
       "       [False,  True, False, False, False, False,  True, False, False,\n",
       "        False,  True, False],\n",
       "       [False, False,  True,  True,  True,  True, False,  True, False,\n",
       "        False, False,  True]])"
      ]
     },
     "execution_count": 64,
     "metadata": {},
     "output_type": "execute_result"
    }
   ],
   "source": [
    "np_array_c2 % 3 == 0"
   ]
  },
  {
   "cell_type": "code",
   "execution_count": 65,
   "metadata": {
    "ExecuteTime": {
     "end_time": "2021-05-25T07:00:59.509731Z",
     "start_time": "2021-05-25T07:00:59.473750Z"
    }
   },
   "outputs": [
    {
     "data": {
      "text/plain": [
       "array([[  9,   3,   1,   5,   1,   3,   2,   3,   4,  10,   3,   2],\n",
       "       [ 19,   3,   1,  50,  13,   1,  21,  13,   4,  10,   0,   2],\n",
       "       [100,   2,   3,   3,   9,   3,   4,   3,   1,   1,   2,   0],\n",
       "       [  9,   3,   1,   5,   1,   3,   2,   3,   4,  10,   3,   2],\n",
       "       [ 19,   3,   1,  50,  13,   1,  21,  13,   4,  10,   0,   2],\n",
       "       [100,   2,   3,   3,   9,   3,   4,   3,   1,   1,   2,   0],\n",
       "       [  9,   3,   1,   5,   1,   3,   2,   3,   4,  10,   3,   2],\n",
       "       [ 19,   3,   1,  50,  13,   1,  21,  13,   4,  10,   0,   2],\n",
       "       [100,   2,   3,   3,   9,   3,   4,   3,   1,   1,   2,   0]])"
      ]
     },
     "execution_count": 65,
     "metadata": {},
     "output_type": "execute_result"
    }
   ],
   "source": [
    "np.append(np.append(np_array_c2, np_array_c2, axis=0), np_array_c2, axis=0)"
   ]
  },
  {
   "cell_type": "code",
   "execution_count": 66,
   "metadata": {
    "ExecuteTime": {
     "end_time": "2021-05-25T07:01:06.704749Z",
     "start_time": "2021-05-25T07:01:06.661774Z"
    }
   },
   "outputs": [
    {
     "data": {
      "text/plain": [
       "array([[  9,   3,   1,   5,   1,   3,   2,   3,   4,  10,   3,   2],\n",
       "       [ 19,   3,   1,  50,  13,   1,  21,  13,   4,  10,   0,   2],\n",
       "       [100,   2,   3,   3,   9,   3,   4,   3,   1,   1,   2,   0],\n",
       "       [  9,   3,   1,   5,   1,   3,   2,   3,   4,  10,   3,   2],\n",
       "       [ 19,   3,   1,  50,  13,   1,  21,  13,   4,  10,   0,   2],\n",
       "       [100,   2,   3,   3,   9,   3,   4,   3,   1,   1,   2,   0],\n",
       "       [  9,   3,   1,   5,   1,   3,   2,   3,   4,  10,   3,   2],\n",
       "       [ 19,   3,   1,  50,  13,   1,  21,  13,   4,  10,   0,   2],\n",
       "       [100,   2,   3,   3,   9,   3,   4,   3,   1,   1,   2,   0],\n",
       "       [  9,   3,   1,   5,   1,   3,   2,   3,   4,  10,   3,   2],\n",
       "       [ 19,   3,   1,  50,  13,   1,  21,  13,   4,  10,   0,   2],\n",
       "       [100,   2,   3,   3,   9,   3,   4,   3,   1,   1,   2,   0],\n",
       "       [  9,   3,   1,   5,   1,   3,   2,   3,   4,  10,   3,   2],\n",
       "       [ 19,   3,   1,  50,  13,   1,  21,  13,   4,  10,   0,   2],\n",
       "       [100,   2,   3,   3,   9,   3,   4,   3,   1,   1,   2,   0]])"
      ]
     },
     "execution_count": 66,
     "metadata": {},
     "output_type": "execute_result"
    }
   ],
   "source": [
    "np.concatenate((np_array_c2, np_array_c2, np_array_c2, np_array_c2, np_array_c2), axis=0)"
   ]
  },
  {
   "cell_type": "code",
   "execution_count": 67,
   "metadata": {
    "ExecuteTime": {
     "end_time": "2021-05-25T07:01:15.543719Z",
     "start_time": "2021-05-25T07:01:15.513747Z"
    }
   },
   "outputs": [
    {
     "data": {
      "text/plain": [
       "array([[ 18,   6,   2,  10,   2,   6,   4,   6,   8,  20,   6,   4],\n",
       "       [ 38,   6,   2, 100,  26,   2,  42,  26,   8,  20,   0,   4],\n",
       "       [200,   4,   6,   6,  18,   6,   8,   6,   2,   2,   4,   0]])"
      ]
     },
     "execution_count": 67,
     "metadata": {},
     "output_type": "execute_result"
    }
   ],
   "source": [
    "np_array_c2 + np_array_c2"
   ]
  },
  {
   "cell_type": "code",
   "execution_count": 68,
   "metadata": {
    "ExecuteTime": {
     "end_time": "2021-05-25T07:01:20.971906Z",
     "start_time": "2021-05-25T07:01:20.946920Z"
    }
   },
   "outputs": [
    {
     "data": {
      "text/plain": [
       "array([[0, 0, 0, 0, 0, 0, 0, 0, 0, 0, 0, 0],\n",
       "       [0, 0, 0, 0, 0, 0, 0, 0, 0, 0, 0, 0],\n",
       "       [0, 0, 0, 0, 0, 0, 0, 0, 0, 0, 0, 0]])"
      ]
     },
     "execution_count": 68,
     "metadata": {},
     "output_type": "execute_result"
    }
   ],
   "source": [
    "np_array_c2 - np_array_c2"
   ]
  },
  {
   "cell_type": "code",
   "execution_count": 69,
   "metadata": {
    "ExecuteTime": {
     "end_time": "2021-05-25T07:01:26.439781Z",
     "start_time": "2021-05-25T07:01:26.403814Z"
    }
   },
   "outputs": [
    {
     "name": "stderr",
     "output_type": "stream",
     "text": [
      "<ipython-input-69-cd24c6aff44e>:1: RuntimeWarning: invalid value encountered in true_divide\n",
      "  np_array_c2 / np_array_c2\n"
     ]
    },
    {
     "data": {
      "text/plain": [
       "array([[ 1.,  1.,  1.,  1.,  1.,  1.,  1.,  1.,  1.,  1.,  1.,  1.],\n",
       "       [ 1.,  1.,  1.,  1.,  1.,  1.,  1.,  1.,  1.,  1., nan,  1.],\n",
       "       [ 1.,  1.,  1.,  1.,  1.,  1.,  1.,  1.,  1.,  1.,  1., nan]])"
      ]
     },
     "execution_count": 69,
     "metadata": {},
     "output_type": "execute_result"
    }
   ],
   "source": [
    "np_array_c2 / np_array_c2"
   ]
  },
  {
   "cell_type": "code",
   "execution_count": 70,
   "metadata": {
    "ExecuteTime": {
     "end_time": "2021-05-25T07:01:33.337676Z",
     "start_time": "2021-05-25T07:01:33.310695Z"
    }
   },
   "outputs": [
    {
     "data": {
      "text/plain": [
       "array([[   81,     9,     1,    25,     1,     9,     4,     9,    16,\n",
       "          100,     9,     4],\n",
       "       [  361,     9,     1,  2500,   169,     1,   441,   169,    16,\n",
       "          100,     0,     4],\n",
       "       [10000,     4,     9,     9,    81,     9,    16,     9,     1,\n",
       "            1,     4,     0]])"
      ]
     },
     "execution_count": 70,
     "metadata": {},
     "output_type": "execute_result"
    }
   ],
   "source": [
    "np_array_c2 * np_array_c2"
   ]
  },
  {
   "cell_type": "code",
   "execution_count": 71,
   "metadata": {
    "ExecuteTime": {
     "end_time": "2021-05-25T07:01:56.778580Z",
     "start_time": "2021-05-25T07:01:56.757590Z"
    }
   },
   "outputs": [
    {
     "data": {
      "text/plain": [
       "array([[ 18,   6,   2,  10,   2,   6,   4,   6,   8,  20,   6,   4],\n",
       "       [ 38,   6,   2, 100,  26,   2,  42,  26,   8,  20,   0,   4],\n",
       "       [200,   4,   6,   6,  18,   6,   8,   6,   2,   2,   4,   0]])"
      ]
     },
     "execution_count": 71,
     "metadata": {},
     "output_type": "execute_result"
    }
   ],
   "source": [
    "np_array_c2 * 2"
   ]
  },
  {
   "cell_type": "code",
   "execution_count": 72,
   "metadata": {
    "ExecuteTime": {
     "end_time": "2021-05-25T07:02:02.882576Z",
     "start_time": "2021-05-25T07:02:02.858593Z"
    }
   },
   "outputs": [
    {
     "data": {
      "text/plain": [
       "array([[ 4.5,  1.5,  0.5,  2.5,  0.5,  1.5,  1. ,  1.5,  2. ,  5. ,  1.5,\n",
       "         1. ],\n",
       "       [ 9.5,  1.5,  0.5, 25. ,  6.5,  0.5, 10.5,  6.5,  2. ,  5. ,  0. ,\n",
       "         1. ],\n",
       "       [50. ,  1. ,  1.5,  1.5,  4.5,  1.5,  2. ,  1.5,  0.5,  0.5,  1. ,\n",
       "         0. ]])"
      ]
     },
     "execution_count": 72,
     "metadata": {},
     "output_type": "execute_result"
    }
   ],
   "source": [
    "np_array_c2 / 2"
   ]
  },
  {
   "cell_type": "code",
   "execution_count": 73,
   "metadata": {
    "ExecuteTime": {
     "end_time": "2021-05-25T07:02:09.262642Z",
     "start_time": "2021-05-25T07:02:09.234664Z"
    }
   },
   "outputs": [
    {
     "data": {
      "text/plain": [
       "array([[ 11,   5,   3,   7,   3,   5,   4,   5,   6,  12,   5,   4],\n",
       "       [ 21,   5,   3,  52,  15,   3,  23,  15,   6,  12,   2,   4],\n",
       "       [103,   5,   6,   6,  12,   6,   7,   6,   4,   4,   5,   3]])"
      ]
     },
     "execution_count": 73,
     "metadata": {},
     "output_type": "execute_result"
    }
   ],
   "source": [
    "np_array_c2 + np.array([[2], [2], [3]])"
   ]
  },
  {
   "cell_type": "code",
   "execution_count": 74,
   "metadata": {
    "ExecuteTime": {
     "end_time": "2021-05-25T07:02:14.521551Z",
     "start_time": "2021-05-25T07:02:14.488577Z"
    }
   },
   "outputs": [
    {
     "data": {
      "text/plain": [
       "array([[ 18,   6,   2,  10,   2,   6,   4,   6,   8,  20,   6,   4],\n",
       "       [ 28,   6,   2,  55,  14,   4,  23,  16,   8,  20,   3,   4],\n",
       "       [109,   5,   4,   8,  10,   6,   6,   6,   5,  11,   5,   2]])"
      ]
     },
     "execution_count": 74,
     "metadata": {},
     "output_type": "execute_result"
    }
   ],
   "source": [
    "np_array_c2 + np_array_c2[0]"
   ]
  },
  {
   "cell_type": "code",
   "execution_count": 75,
   "metadata": {
    "ExecuteTime": {
     "end_time": "2021-05-25T07:02:20.301451Z",
     "start_time": "2021-05-25T07:02:20.282459Z"
    }
   },
   "outputs": [
    {
     "name": "stdout",
     "output_type": "stream",
     "text": [
      "[[ 9  3  1  5  1  3  2  3  4 10  3  2]\n",
      " [ 9  3  1  5  1  3  2  3  4 10  3  2]\n",
      " [ 9  3  1  5  1  3  2  3  4 10  3  2]]\n"
     ]
    }
   ],
   "source": [
    "broadcasted_c2 = np.array([np_array_c2[0].tolist(), np_array_c2[0].tolist(), np_array_c2[0].tolist()])\n",
    "print(broadcasted_c2)"
   ]
  },
  {
   "cell_type": "code",
   "execution_count": 76,
   "metadata": {
    "ExecuteTime": {
     "end_time": "2021-05-25T07:02:25.314990Z",
     "start_time": "2021-05-25T07:02:25.293002Z"
    }
   },
   "outputs": [
    {
     "data": {
      "text/plain": [
       "array([[ 18,   6,   2,  10,   2,   6,   4,   6,   8,  20,   6,   4],\n",
       "       [ 28,   6,   2,  55,  14,   4,  23,  16,   8,  20,   3,   4],\n",
       "       [109,   5,   4,   8,  10,   6,   6,   6,   5,  11,   5,   2]])"
      ]
     },
     "execution_count": 76,
     "metadata": {},
     "output_type": "execute_result"
    }
   ],
   "source": [
    "np_array_c2 + broadcasted_c2"
   ]
  },
  {
   "cell_type": "code",
   "execution_count": 77,
   "metadata": {
    "ExecuteTime": {
     "end_time": "2021-05-25T07:02:30.635733Z",
     "start_time": "2021-05-25T07:02:30.604750Z"
    }
   },
   "outputs": [
    {
     "data": {
      "text/plain": [
       "array([ 9,  3,  1,  5,  1,  3,  2,  3,  4, 10,  3,  2])"
      ]
     },
     "execution_count": 77,
     "metadata": {},
     "output_type": "execute_result"
    }
   ],
   "source": [
    "np_array_c2[0]"
   ]
  },
  {
   "cell_type": "code",
   "execution_count": 78,
   "metadata": {
    "ExecuteTime": {
     "end_time": "2021-05-25T07:02:35.255030Z",
     "start_time": "2021-05-25T07:02:35.225053Z"
    }
   },
   "outputs": [
    {
     "data": {
      "text/plain": [
       "array([[  9,   3,   1,   5,   1,   3,   2,   3,   4,  10,   3,   2],\n",
       "       [ 19,   3,   1,  50,  13,   1,  21,  13,   4,  10,   0,   2],\n",
       "       [100,   2,   3,   3,   9,   3,   4,   3,   1,   1,   2,   0]])"
      ]
     },
     "execution_count": 78,
     "metadata": {},
     "output_type": "execute_result"
    }
   ],
   "source": [
    "np_array_c2"
   ]
  },
  {
   "cell_type": "code",
   "execution_count": 79,
   "metadata": {
    "ExecuteTime": {
     "end_time": "2021-05-25T07:02:41.399589Z",
     "start_time": "2021-05-25T07:02:41.355625Z"
    }
   },
   "outputs": [
    {
     "name": "stdout",
     "output_type": "stream",
     "text": [
      "100\n",
      "[ 10  50 100]\n",
      "[100   3   3  50  13   3  21  13   4  10   3   2]\n",
      "[[ 10]\n",
      " [ 50]\n",
      " [100]]\n",
      "[[100   3   3  50  13   3  21  13   4  10   3   2]]\n"
     ]
    }
   ],
   "source": [
    "print(np_array_c2.max())\n",
    "print(np_array_c2.max(axis=1))\n",
    "print(np_array_c2.max(axis=0))\n",
    "print(np_array_c2.max(axis=1, keepdims=True))\n",
    "print(np_array_c2.max(axis=0, keepdims=True))"
   ]
  },
  {
   "cell_type": "code",
   "execution_count": 80,
   "metadata": {
    "ExecuteTime": {
     "end_time": "2021-05-25T07:03:14.814341Z",
     "start_time": "2021-05-25T07:03:14.784359Z"
    }
   },
   "outputs": [
    {
     "data": {
      "text/plain": [
       "array([[1, 2, 3],\n",
       "       [4, 5, 6]])"
      ]
     },
     "execution_count": 80,
     "metadata": {},
     "output_type": "execute_result"
    }
   ],
   "source": [
    "np_array_a2"
   ]
  },
  {
   "cell_type": "code",
   "execution_count": 81,
   "metadata": {
    "ExecuteTime": {
     "end_time": "2021-05-25T07:03:21.476590Z",
     "start_time": "2021-05-25T07:03:21.411630Z"
    }
   },
   "outputs": [
    {
     "ename": "ValueError",
     "evalue": "shapes (2,3) and (2,3) not aligned: 3 (dim 1) != 2 (dim 0)",
     "output_type": "error",
     "traceback": [
      "\u001b[1;31m---------------------------------------------------------------------------\u001b[0m",
      "\u001b[1;31mValueError\u001b[0m                                Traceback (most recent call last)",
      "\u001b[1;32m<ipython-input-81-b258034cb46f>\u001b[0m in \u001b[0;36m<module>\u001b[1;34m\u001b[0m\n\u001b[1;32m----> 1\u001b[1;33m \u001b[0mnp\u001b[0m\u001b[1;33m.\u001b[0m\u001b[0mdot\u001b[0m\u001b[1;33m(\u001b[0m\u001b[0mnp_array_a2\u001b[0m\u001b[1;33m,\u001b[0m \u001b[0mnp_array_a2\u001b[0m\u001b[1;33m)\u001b[0m\u001b[1;33m\u001b[0m\u001b[1;33m\u001b[0m\u001b[0m\n\u001b[0m",
      "\u001b[1;32m<__array_function__ internals>\u001b[0m in \u001b[0;36mdot\u001b[1;34m(*args, **kwargs)\u001b[0m\n",
      "\u001b[1;31mValueError\u001b[0m: shapes (2,3) and (2,3) not aligned: 3 (dim 1) != 2 (dim 0)"
     ]
    }
   ],
   "source": [
    "np.dot(np_array_a2, np_array_a2)"
   ]
  },
  {
   "cell_type": "code",
   "execution_count": 82,
   "metadata": {
    "ExecuteTime": {
     "end_time": "2021-05-25T07:03:28.420129Z",
     "start_time": "2021-05-25T07:03:28.396629Z"
    }
   },
   "outputs": [
    {
     "data": {
      "text/plain": [
       "(array([[1, 4],\n",
       "        [2, 5],\n",
       "        [3, 6]]),\n",
       " array([[1, 4],\n",
       "        [2, 5],\n",
       "        [3, 6]]))"
      ]
     },
     "execution_count": 82,
     "metadata": {},
     "output_type": "execute_result"
    }
   ],
   "source": [
    "np_array_a2.transpose(), np_array_a2.T"
   ]
  },
  {
   "cell_type": "code",
   "execution_count": 83,
   "metadata": {
    "ExecuteTime": {
     "end_time": "2021-05-25T07:03:34.041571Z",
     "start_time": "2021-05-25T07:03:34.010588Z"
    }
   },
   "outputs": [
    {
     "data": {
      "text/plain": [
       "array([[14, 32],\n",
       "       [32, 77]])"
      ]
     },
     "execution_count": 83,
     "metadata": {},
     "output_type": "execute_result"
    }
   ],
   "source": [
    "np.dot(np_array_a2, np_array_a2.T)"
   ]
  },
  {
   "cell_type": "code",
   "execution_count": 84,
   "metadata": {
    "ExecuteTime": {
     "end_time": "2021-05-25T07:03:39.136262Z",
     "start_time": "2021-05-25T07:03:39.101282Z"
    }
   },
   "outputs": [
    {
     "data": {
      "text/plain": [
       "array([[14, 32],\n",
       "       [32, 77]])"
      ]
     },
     "execution_count": 84,
     "metadata": {},
     "output_type": "execute_result"
    }
   ],
   "source": [
    "np_array_a2.dot(np_array_a2.T)"
   ]
  },
  {
   "cell_type": "code",
   "execution_count": 85,
   "metadata": {
    "ExecuteTime": {
     "end_time": "2021-05-25T07:03:44.720300Z",
     "start_time": "2021-05-25T07:03:44.691318Z"
    }
   },
   "outputs": [
    {
     "data": {
      "text/plain": [
       "array([[14, 32],\n",
       "       [32, 77]])"
      ]
     },
     "execution_count": 85,
     "metadata": {},
     "output_type": "execute_result"
    }
   ],
   "source": [
    "np.matmul(np_array_a2, np_array_a2.T)"
   ]
  },
  {
   "cell_type": "code",
   "execution_count": 86,
   "metadata": {
    "ExecuteTime": {
     "end_time": "2021-05-25T07:03:49.852395Z",
     "start_time": "2021-05-25T07:03:49.829400Z"
    }
   },
   "outputs": [
    {
     "data": {
      "text/plain": [
       "array([1, 2, 3, 4, 5, 6])"
      ]
     },
     "execution_count": 86,
     "metadata": {},
     "output_type": "execute_result"
    }
   ],
   "source": [
    "np_array_a2.flatten()"
   ]
  },
  {
   "cell_type": "code",
   "execution_count": 87,
   "metadata": {
    "ExecuteTime": {
     "end_time": "2021-05-25T07:03:59.265823Z",
     "start_time": "2021-05-25T07:03:59.241833Z"
    }
   },
   "outputs": [
    {
     "data": {
      "text/plain": [
       "array([  9,   3,   1,   5,   1,   3,   2,   3,   4,  10,   3,   2,  19,\n",
       "         3,   1,  50,  13,   1,  21,  13,   4,  10,   0,   2, 100,   2,\n",
       "         3,   3,   9,   3,   4,   3,   1,   1,   2,   0])"
      ]
     },
     "execution_count": 87,
     "metadata": {},
     "output_type": "execute_result"
    }
   ],
   "source": [
    "np_array_a3.flatten()"
   ]
  },
  {
   "cell_type": "code",
   "execution_count": 88,
   "metadata": {
    "ExecuteTime": {
     "end_time": "2021-05-25T07:04:05.928129Z",
     "start_time": "2021-05-25T07:04:05.895267Z"
    }
   },
   "outputs": [
    {
     "data": {
      "text/plain": [
       "array([[[64, 11, 49],\n",
       "        [55, 58, 16]],\n",
       "\n",
       "       [[59, 71, 37],\n",
       "        [33, 81, 72]]])"
      ]
     },
     "execution_count": 88,
     "metadata": {},
     "output_type": "execute_result"
    }
   ],
   "source": [
    "np.random.randint(10, 100, size=(2, 2, 3))"
   ]
  },
  {
   "cell_type": "code",
   "execution_count": 89,
   "metadata": {
    "ExecuteTime": {
     "end_time": "2021-05-25T07:04:22.235719Z",
     "start_time": "2021-05-25T07:04:22.212731Z"
    }
   },
   "outputs": [
    {
     "data": {
      "text/plain": [
       "(None, nan, float)"
      ]
     },
     "execution_count": 89,
     "metadata": {},
     "output_type": "execute_result"
    }
   ],
   "source": [
    "None, np.nan, type(np.nan)"
   ]
  },
  {
   "cell_type": "code",
   "execution_count": 90,
   "metadata": {
    "ExecuteTime": {
     "end_time": "2021-05-25T07:04:28.852089Z",
     "start_time": "2021-05-25T07:04:28.820091Z"
    }
   },
   "outputs": [
    {
     "data": {
      "text/plain": [
       "(False, False, True)"
      ]
     },
     "execution_count": 90,
     "metadata": {},
     "output_type": "execute_result"
    }
   ],
   "source": [
    "bool(\"\"), bool(None), bool(np.nan)"
   ]
  }
 ],
 "metadata": {
  "kernelspec": {
   "display_name": "Python 3",
   "language": "python",
   "name": "python3"
  },
  "language_info": {
   "codemirror_mode": {
    "name": "ipython",
    "version": 3
   },
   "file_extension": ".py",
   "mimetype": "text/x-python",
   "name": "python",
   "nbconvert_exporter": "python",
   "pygments_lexer": "ipython3",
   "version": "3.8.3"
  },
  "toc": {
   "base_numbering": 1,
   "nav_menu": {},
   "number_sections": true,
   "sideBar": true,
   "skip_h1_title": false,
   "title_cell": "Table of Contents",
   "title_sidebar": "Contents",
   "toc_cell": false,
   "toc_position": {},
   "toc_section_display": true,
   "toc_window_display": false
  },
  "varInspector": {
   "cols": {
    "lenName": 16,
    "lenType": 16,
    "lenVar": 40
   },
   "kernels_config": {
    "python": {
     "delete_cmd_postfix": "",
     "delete_cmd_prefix": "del ",
     "library": "var_list.py",
     "varRefreshCmd": "print(var_dic_list())"
    },
    "r": {
     "delete_cmd_postfix": ") ",
     "delete_cmd_prefix": "rm(",
     "library": "var_list.r",
     "varRefreshCmd": "cat(var_dic_list()) "
    }
   },
   "types_to_exclude": [
    "module",
    "function",
    "builtin_function_or_method",
    "instance",
    "_Feature"
   ],
   "window_display": false
  }
 },
 "nbformat": 4,
 "nbformat_minor": 4
}
